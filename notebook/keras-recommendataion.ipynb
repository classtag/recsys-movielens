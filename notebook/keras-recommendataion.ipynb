{
 "cells": [
  {
   "cell_type": "markdown",
   "metadata": {
    "ExecuteTime": {
     "end_time": "2018-12-08T11:32:26.976412Z",
     "start_time": "2018-12-08T11:32:26.953759Z"
    }
   },
   "source": [
    "# Recommend candidates building via keras\n",
    "[recommend keras](https://nipunbatra.github.io/blog/2017/recommend-keras.html)"
   ]
  },
  {
   "cell_type": "code",
   "execution_count": 1,
   "metadata": {
    "ExecuteTime": {
     "end_time": "2018-12-08T08:05:08.396016Z",
     "start_time": "2018-12-08T08:05:07.555642Z"
    }
   },
   "outputs": [],
   "source": [
    "import pandas as pd\n",
    "import numpy as np\n",
    "import matplotlib.pyplot as plt\n",
    "import warnings\n",
    "warnings.filterwarnings('ignore')\n",
    "\n",
    "%matplotlib inline"
   ]
  },
  {
   "cell_type": "code",
   "execution_count": 2,
   "metadata": {
    "ExecuteTime": {
     "end_time": "2018-12-08T08:05:14.034079Z",
     "start_time": "2018-12-08T08:05:08.398663Z"
    }
   },
   "outputs": [],
   "source": [
    "ratings = pd.read_csv(\"../input/ml-1m/ratings.dat\", sep='::', names=\"user_id,item_id,rating,timestamp\".split(\",\"))"
   ]
  },
  {
   "cell_type": "code",
   "execution_count": 3,
   "metadata": {
    "ExecuteTime": {
     "end_time": "2018-12-08T08:05:14.090910Z",
     "start_time": "2018-12-08T08:05:14.036108Z"
    }
   },
   "outputs": [
    {
     "data": {
      "text/html": [
       "<div>\n",
       "<style scoped>\n",
       "    .dataframe tbody tr th:only-of-type {\n",
       "        vertical-align: middle;\n",
       "    }\n",
       "\n",
       "    .dataframe tbody tr th {\n",
       "        vertical-align: top;\n",
       "    }\n",
       "\n",
       "    .dataframe thead th {\n",
       "        text-align: right;\n",
       "    }\n",
       "</style>\n",
       "<table border=\"1\" class=\"dataframe\">\n",
       "  <thead>\n",
       "    <tr style=\"text-align: right;\">\n",
       "      <th></th>\n",
       "      <th>user_id</th>\n",
       "      <th>item_id</th>\n",
       "      <th>rating</th>\n",
       "      <th>timestamp</th>\n",
       "    </tr>\n",
       "  </thead>\n",
       "  <tbody>\n",
       "    <tr>\n",
       "      <th>0</th>\n",
       "      <td>1</td>\n",
       "      <td>1193</td>\n",
       "      <td>5</td>\n",
       "      <td>978300760</td>\n",
       "    </tr>\n",
       "    <tr>\n",
       "      <th>1</th>\n",
       "      <td>1</td>\n",
       "      <td>661</td>\n",
       "      <td>3</td>\n",
       "      <td>978302109</td>\n",
       "    </tr>\n",
       "    <tr>\n",
       "      <th>2</th>\n",
       "      <td>1</td>\n",
       "      <td>914</td>\n",
       "      <td>3</td>\n",
       "      <td>978301968</td>\n",
       "    </tr>\n",
       "    <tr>\n",
       "      <th>3</th>\n",
       "      <td>1</td>\n",
       "      <td>3408</td>\n",
       "      <td>4</td>\n",
       "      <td>978300275</td>\n",
       "    </tr>\n",
       "    <tr>\n",
       "      <th>4</th>\n",
       "      <td>1</td>\n",
       "      <td>2355</td>\n",
       "      <td>5</td>\n",
       "      <td>978824291</td>\n",
       "    </tr>\n",
       "  </tbody>\n",
       "</table>\n",
       "</div>"
      ],
      "text/plain": [
       "   user_id  item_id  rating  timestamp\n",
       "0        1     1193       5  978300760\n",
       "1        1      661       3  978302109\n",
       "2        1      914       3  978301968\n",
       "3        1     3408       4  978300275\n",
       "4        1     2355       5  978824291"
      ]
     },
     "execution_count": 3,
     "metadata": {},
     "output_type": "execute_result"
    }
   ],
   "source": [
    "ratings.head()"
   ]
  },
  {
   "cell_type": "markdown",
   "metadata": {},
   "source": [
    "So, each record (row) shows the rating for a user, item (movie) pair."
   ]
  },
  {
   "cell_type": "code",
   "execution_count": 4,
   "metadata": {
    "ExecuteTime": {
     "end_time": "2018-12-08T08:05:14.107625Z",
     "start_time": "2018-12-08T08:05:14.093589Z"
    }
   },
   "outputs": [
    {
     "data": {
      "text/plain": [
       "(1000209, 4)"
      ]
     },
     "execution_count": 4,
     "metadata": {},
     "output_type": "execute_result"
    }
   ],
   "source": [
    "ratings.shape"
   ]
  },
  {
   "cell_type": "code",
   "execution_count": 5,
   "metadata": {
    "ExecuteTime": {
     "end_time": "2018-12-08T08:05:14.206382Z",
     "start_time": "2018-12-08T08:05:14.116668Z"
    }
   },
   "outputs": [
    {
     "data": {
      "text/plain": [
       "(6040, 3706)"
      ]
     },
     "execution_count": 5,
     "metadata": {},
     "output_type": "execute_result"
    }
   ],
   "source": [
    "len(ratings.user_id.unique()), len(ratings.item_id.unique())"
   ]
  },
  {
   "cell_type": "code",
   "execution_count": 6,
   "metadata": {
    "ExecuteTime": {
     "end_time": "2018-12-08T08:05:14.308124Z",
     "start_time": "2018-12-08T08:05:14.213185Z"
    }
   },
   "outputs": [],
   "source": [
    "ratings.user_id = ratings.user_id.astype('category').cat.codes.values\n",
    "ratings.item_id = ratings.item_id.astype('category').cat.codes.values"
   ]
  },
  {
   "cell_type": "code",
   "execution_count": 7,
   "metadata": {
    "ExecuteTime": {
     "end_time": "2018-12-08T08:05:14.330776Z",
     "start_time": "2018-12-08T08:05:14.310471Z"
    }
   },
   "outputs": [
    {
     "data": {
      "text/html": [
       "<div>\n",
       "<style scoped>\n",
       "    .dataframe tbody tr th:only-of-type {\n",
       "        vertical-align: middle;\n",
       "    }\n",
       "\n",
       "    .dataframe tbody tr th {\n",
       "        vertical-align: top;\n",
       "    }\n",
       "\n",
       "    .dataframe thead th {\n",
       "        text-align: right;\n",
       "    }\n",
       "</style>\n",
       "<table border=\"1\" class=\"dataframe\">\n",
       "  <thead>\n",
       "    <tr style=\"text-align: right;\">\n",
       "      <th></th>\n",
       "      <th>user_id</th>\n",
       "      <th>item_id</th>\n",
       "      <th>rating</th>\n",
       "      <th>timestamp</th>\n",
       "    </tr>\n",
       "  </thead>\n",
       "  <tbody>\n",
       "    <tr>\n",
       "      <th>0</th>\n",
       "      <td>0</td>\n",
       "      <td>1104</td>\n",
       "      <td>5</td>\n",
       "      <td>978300760</td>\n",
       "    </tr>\n",
       "    <tr>\n",
       "      <th>1</th>\n",
       "      <td>0</td>\n",
       "      <td>639</td>\n",
       "      <td>3</td>\n",
       "      <td>978302109</td>\n",
       "    </tr>\n",
       "    <tr>\n",
       "      <th>2</th>\n",
       "      <td>0</td>\n",
       "      <td>853</td>\n",
       "      <td>3</td>\n",
       "      <td>978301968</td>\n",
       "    </tr>\n",
       "    <tr>\n",
       "      <th>3</th>\n",
       "      <td>0</td>\n",
       "      <td>3177</td>\n",
       "      <td>4</td>\n",
       "      <td>978300275</td>\n",
       "    </tr>\n",
       "    <tr>\n",
       "      <th>4</th>\n",
       "      <td>0</td>\n",
       "      <td>2162</td>\n",
       "      <td>5</td>\n",
       "      <td>978824291</td>\n",
       "    </tr>\n",
       "  </tbody>\n",
       "</table>\n",
       "</div>"
      ],
      "text/plain": [
       "   user_id  item_id  rating  timestamp\n",
       "0        0     1104       5  978300760\n",
       "1        0      639       3  978302109\n",
       "2        0      853       3  978301968\n",
       "3        0     3177       4  978300275\n",
       "4        0     2162       5  978824291"
      ]
     },
     "execution_count": 7,
     "metadata": {},
     "output_type": "execute_result"
    }
   ],
   "source": [
    "ratings.head()"
   ]
  },
  {
   "cell_type": "markdown",
   "metadata": {},
   "source": [
    "Train test split\n",
    "We'll now split our dataset of 1M ratings into train (containing 800k ratings) and test (containing 200k ratings). Given the train set, we'd like to accurately estimate the ratings in the test set."
   ]
  },
  {
   "cell_type": "code",
   "execution_count": 8,
   "metadata": {
    "ExecuteTime": {
     "end_time": "2018-12-08T08:05:14.842409Z",
     "start_time": "2018-12-08T08:05:14.335349Z"
    }
   },
   "outputs": [],
   "source": [
    "from sklearn.model_selection import train_test_split\n",
    "train, test = train_test_split(ratings, test_size=0.3)\n",
    "train, valid = train_test_split(train, test_size=0.3)"
   ]
  },
  {
   "cell_type": "code",
   "execution_count": 9,
   "metadata": {
    "ExecuteTime": {
     "end_time": "2018-12-08T08:05:14.850578Z",
     "start_time": "2018-12-08T08:05:14.844365Z"
    }
   },
   "outputs": [
    {
     "name": "stdout",
     "output_type": "stream",
     "text": [
      "(490102, 4) (210044, 4) (300063, 4)\n"
     ]
    }
   ],
   "source": [
    "print(train.shape, valid.shape, test.shape)"
   ]
  },
  {
   "cell_type": "markdown",
   "metadata": {},
   "source": [
    "## Matrix factorisation"
   ]
  },
  {
   "cell_type": "markdown",
   "metadata": {},
   "source": [
    "One popular recommender systems approach is called **Matrix Factorisation**. It works on the principle that we can learn a low-dimensional representation (embedding) of user and movie. For example, for each movie, we can have how much action it has, how long it is, and so on. For each user, we can encode how much they like action, or how much they like long movies, etc. Thus, we can combine the user and the movie embeddings to estimate the ratings on unseen movies. This approach can also be viewed as: given a matrix (A [M X N]) containing users and movies, we want to estimate low dimensional matrices (W [M X k] and H [M X k]), such that: A≈W.HT"
   ]
  },
  {
   "cell_type": "markdown",
   "metadata": {},
   "source": [
    "## Matrix factorisation in Keras\n",
    "We'll now write some code to solve the recommendation problem by matrix factorisation in Keras. We're trying to learn two low-dimensional embeddings of users and items."
   ]
  },
  {
   "cell_type": "code",
   "execution_count": 10,
   "metadata": {
    "ExecuteTime": {
     "end_time": "2018-12-08T08:05:16.356884Z",
     "start_time": "2018-12-08T08:05:14.852709Z"
    }
   },
   "outputs": [
    {
     "name": "stderr",
     "output_type": "stream",
     "text": [
      "Using TensorFlow backend.\n"
     ]
    }
   ],
   "source": [
    "import keras\n",
    "from IPython.display import SVG\n",
    "from keras.optimizers import Adam\n",
    "from keras.utils.vis_utils import model_to_dot\n",
    "n_users, n_movies = len(ratings.user_id.unique()), len(ratings.item_id.unique())\n",
    "n_latent_factors = 3"
   ]
  },
  {
   "cell_type": "markdown",
   "metadata": {},
   "source": [
    "The key thing is to learn an embedding for movies and users, and then combine them using the dot product! For estimating the rating, for each user, movie pair of interest, we'd take the dot product of the respective user and item embedding. As an example, if we have 2 dimensions in our user and item embedding, which say correspond to [how much user likes action, how much user likes long movies], and the item embedding is [how much action is in the movie, how long is the movie]. Then, we can predict for a user `u`, and movie `m` as how much `u` likes action × how much action is there in `m` + how much `u` likes long movies × how long is `m`.\n",
    "\n",
    "Our model would optimise the emebedding such that we minimise the mean squared error on the ratings from the train set."
   ]
  },
  {
   "cell_type": "code",
   "execution_count": 11,
   "metadata": {
    "ExecuteTime": {
     "end_time": "2018-12-08T08:05:16.485849Z",
     "start_time": "2018-12-08T08:05:16.359026Z"
    }
   },
   "outputs": [],
   "source": [
    "movie_input = keras.layers.Input(shape=[1],name='ItemId')\n",
    "movie_embedding = keras.layers.Embedding(n_movies + 1, n_latent_factors, name='Item-Embedding')(movie_input)\n",
    "movie_vec = keras.layers.Flatten(name='FlattenItems')(movie_embedding)\n",
    "\n",
    "user_input = keras.layers.Input(shape=[1],name='UserId')\n",
    "user_vec = keras.layers.Flatten(name='FlattenUsers')(keras.layers.Embedding(n_users + 1, n_latent_factors,name='User-Embedding')(user_input))\n",
    "\n",
    "prod = keras.layers.merge.dot([movie_vec, user_vec], axes=1, name='DotProduct')\n",
    "model = keras.Model([user_input, movie_input], prod)\n",
    "model.compile('adam', 'mean_squared_error')"
   ]
  },
  {
   "cell_type": "code",
   "execution_count": 12,
   "metadata": {
    "ExecuteTime": {
     "end_time": "2018-12-08T08:05:16.589787Z",
     "start_time": "2018-12-08T08:05:16.487580Z"
    }
   },
   "outputs": [
    {
     "data": {
      "image/svg+xml": [
       "<svg height=\"296pt\" viewBox=\"0.00 0.00 681.82 296.00\" width=\"682pt\" xmlns=\"http://www.w3.org/2000/svg\" xmlns:xlink=\"http://www.w3.org/1999/xlink\">\n",
       "<g class=\"graph\" id=\"graph0\" transform=\"scale(1 1) rotate(0) translate(4 292)\">\n",
       "<title>G</title>\n",
       "<polygon fill=\"#ffffff\" points=\"-4,4 -4,-292 677.8154,-292 677.8154,4 -4,4\" stroke=\"transparent\"/>\n",
       "<!-- 4919780856 -->\n",
       "<g class=\"node\" id=\"node1\">\n",
       "<title>4919780856</title>\n",
       "<polygon fill=\"none\" points=\"48.2275,-243.5 48.2275,-287.5 284.7832,-287.5 284.7832,-243.5 48.2275,-243.5\" stroke=\"#000000\"/>\n",
       "<text fill=\"#000000\" font-family=\"Times,serif\" font-size=\"14.00\" text-anchor=\"middle\" x=\"103.8467\" y=\"-261.3\">Item: InputLayer</text>\n",
       "<polyline fill=\"none\" points=\"159.4658,-243.5 159.4658,-287.5 \" stroke=\"#000000\"/>\n",
       "<text fill=\"#000000\" font-family=\"Times,serif\" font-size=\"14.00\" text-anchor=\"middle\" x=\"187.3003\" y=\"-272.3\">input:</text>\n",
       "<polyline fill=\"none\" points=\"159.4658,-265.5 215.1348,-265.5 \" stroke=\"#000000\"/>\n",
       "<text fill=\"#000000\" font-family=\"Times,serif\" font-size=\"14.00\" text-anchor=\"middle\" x=\"187.3003\" y=\"-250.3\">output:</text>\n",
       "<polyline fill=\"none\" points=\"215.1348,-243.5 215.1348,-287.5 \" stroke=\"#000000\"/>\n",
       "<text fill=\"#000000\" font-family=\"Times,serif\" font-size=\"14.00\" text-anchor=\"middle\" x=\"249.959\" y=\"-272.3\">(None, 1)</text>\n",
       "<polyline fill=\"none\" points=\"215.1348,-265.5 284.7832,-265.5 \" stroke=\"#000000\"/>\n",
       "<text fill=\"#000000\" font-family=\"Times,serif\" font-size=\"14.00\" text-anchor=\"middle\" x=\"249.959\" y=\"-250.3\">(None, 1)</text>\n",
       "</g>\n",
       "<!-- 4919780968 -->\n",
       "<g class=\"node\" id=\"node3\">\n",
       "<title>4919780968</title>\n",
       "<polygon fill=\"none\" points=\"0,-162.5 0,-206.5 333.0107,-206.5 333.0107,-162.5 0,-162.5\" stroke=\"#000000\"/>\n",
       "<text fill=\"#000000\" font-family=\"Times,serif\" font-size=\"14.00\" text-anchor=\"middle\" x=\"96.8467\" y=\"-180.3\">Movie-Embedding: Embedding</text>\n",
       "<polyline fill=\"none\" points=\"193.6934,-162.5 193.6934,-206.5 \" stroke=\"#000000\"/>\n",
       "<text fill=\"#000000\" font-family=\"Times,serif\" font-size=\"14.00\" text-anchor=\"middle\" x=\"221.5278\" y=\"-191.3\">input:</text>\n",
       "<polyline fill=\"none\" points=\"193.6934,-184.5 249.3623,-184.5 \" stroke=\"#000000\"/>\n",
       "<text fill=\"#000000\" font-family=\"Times,serif\" font-size=\"14.00\" text-anchor=\"middle\" x=\"221.5278\" y=\"-169.3\">output:</text>\n",
       "<polyline fill=\"none\" points=\"249.3623,-162.5 249.3623,-206.5 \" stroke=\"#000000\"/>\n",
       "<text fill=\"#000000\" font-family=\"Times,serif\" font-size=\"14.00\" text-anchor=\"middle\" x=\"291.1865\" y=\"-191.3\">(None, 1)</text>\n",
       "<polyline fill=\"none\" points=\"249.3623,-184.5 333.0107,-184.5 \" stroke=\"#000000\"/>\n",
       "<text fill=\"#000000\" font-family=\"Times,serif\" font-size=\"14.00\" text-anchor=\"middle\" x=\"291.1865\" y=\"-169.3\">(None, 1, 3)</text>\n",
       "</g>\n",
       "<!-- 4919780856&#45;&gt;4919780968 -->\n",
       "<g class=\"edge\" id=\"edge1\">\n",
       "<title>4919780856-&gt;4919780968</title>\n",
       "<path d=\"M166.5054,-243.3664C166.5054,-235.1516 166.5054,-225.6579 166.5054,-216.7252\" fill=\"none\" stroke=\"#000000\"/>\n",
       "<polygon fill=\"#000000\" points=\"170.0055,-216.6068 166.5054,-206.6068 163.0055,-216.6069 170.0055,-216.6068\" stroke=\"#000000\"/>\n",
       "</g>\n",
       "<!-- 4504340296 -->\n",
       "<g class=\"node\" id=\"node2\">\n",
       "<title>4504340296</title>\n",
       "<polygon fill=\"none\" points=\"393.8379,-243.5 393.8379,-287.5 631.1729,-287.5 631.1729,-243.5 393.8379,-243.5\" stroke=\"#000000\"/>\n",
       "<text fill=\"#000000\" font-family=\"Times,serif\" font-size=\"14.00\" text-anchor=\"middle\" x=\"449.8467\" y=\"-261.3\">User: InputLayer</text>\n",
       "<polyline fill=\"none\" points=\"505.8555,-243.5 505.8555,-287.5 \" stroke=\"#000000\"/>\n",
       "<text fill=\"#000000\" font-family=\"Times,serif\" font-size=\"14.00\" text-anchor=\"middle\" x=\"533.6899\" y=\"-272.3\">input:</text>\n",
       "<polyline fill=\"none\" points=\"505.8555,-265.5 561.5244,-265.5 \" stroke=\"#000000\"/>\n",
       "<text fill=\"#000000\" font-family=\"Times,serif\" font-size=\"14.00\" text-anchor=\"middle\" x=\"533.6899\" y=\"-250.3\">output:</text>\n",
       "<polyline fill=\"none\" points=\"561.5244,-243.5 561.5244,-287.5 \" stroke=\"#000000\"/>\n",
       "<text fill=\"#000000\" font-family=\"Times,serif\" font-size=\"14.00\" text-anchor=\"middle\" x=\"596.3486\" y=\"-272.3\">(None, 1)</text>\n",
       "<polyline fill=\"none\" points=\"561.5244,-265.5 631.1729,-265.5 \" stroke=\"#000000\"/>\n",
       "<text fill=\"#000000\" font-family=\"Times,serif\" font-size=\"14.00\" text-anchor=\"middle\" x=\"596.3486\" y=\"-250.3\">(None, 1)</text>\n",
       "</g>\n",
       "<!-- 4919782144 -->\n",
       "<g class=\"node\" id=\"node4\">\n",
       "<title>4919782144</title>\n",
       "<polygon fill=\"none\" points=\"351.1953,-162.5 351.1953,-206.5 673.8154,-206.5 673.8154,-162.5 351.1953,-162.5\" stroke=\"#000000\"/>\n",
       "<text fill=\"#000000\" font-family=\"Times,serif\" font-size=\"14.00\" text-anchor=\"middle\" x=\"442.8467\" y=\"-180.3\">User-Embedding: Embedding</text>\n",
       "<polyline fill=\"none\" points=\"534.498,-162.5 534.498,-206.5 \" stroke=\"#000000\"/>\n",
       "<text fill=\"#000000\" font-family=\"Times,serif\" font-size=\"14.00\" text-anchor=\"middle\" x=\"562.3325\" y=\"-191.3\">input:</text>\n",
       "<polyline fill=\"none\" points=\"534.498,-184.5 590.167,-184.5 \" stroke=\"#000000\"/>\n",
       "<text fill=\"#000000\" font-family=\"Times,serif\" font-size=\"14.00\" text-anchor=\"middle\" x=\"562.3325\" y=\"-169.3\">output:</text>\n",
       "<polyline fill=\"none\" points=\"590.167,-162.5 590.167,-206.5 \" stroke=\"#000000\"/>\n",
       "<text fill=\"#000000\" font-family=\"Times,serif\" font-size=\"14.00\" text-anchor=\"middle\" x=\"631.9912\" y=\"-191.3\">(None, 1)</text>\n",
       "<polyline fill=\"none\" points=\"590.167,-184.5 673.8154,-184.5 \" stroke=\"#000000\"/>\n",
       "<text fill=\"#000000\" font-family=\"Times,serif\" font-size=\"14.00\" text-anchor=\"middle\" x=\"631.9912\" y=\"-169.3\">(None, 1, 3)</text>\n",
       "</g>\n",
       "<!-- 4504340296&#45;&gt;4919782144 -->\n",
       "<g class=\"edge\" id=\"edge2\">\n",
       "<title>4504340296-&gt;4919782144</title>\n",
       "<path d=\"M512.5054,-243.3664C512.5054,-235.1516 512.5054,-225.6579 512.5054,-216.7252\" fill=\"none\" stroke=\"#000000\"/>\n",
       "<polygon fill=\"#000000\" points=\"516.0055,-216.6068 512.5054,-206.6068 509.0055,-216.6069 516.0055,-216.6068\" stroke=\"#000000\"/>\n",
       "</g>\n",
       "<!-- 4450397824 -->\n",
       "<g class=\"node\" id=\"node5\">\n",
       "<title>4450397824</title>\n",
       "<polygon fill=\"none\" points=\"50.269,-81.5 50.269,-125.5 332.7417,-125.5 332.7417,-81.5 50.269,-81.5\" stroke=\"#000000\"/>\n",
       "<text fill=\"#000000\" font-family=\"Times,serif\" font-size=\"14.00\" text-anchor=\"middle\" x=\"121.8467\" y=\"-99.3\">FlattenMovies: Flatten</text>\n",
       "<polyline fill=\"none\" points=\"193.4243,-81.5 193.4243,-125.5 \" stroke=\"#000000\"/>\n",
       "<text fill=\"#000000\" font-family=\"Times,serif\" font-size=\"14.00\" text-anchor=\"middle\" x=\"221.2588\" y=\"-110.3\">input:</text>\n",
       "<polyline fill=\"none\" points=\"193.4243,-103.5 249.0933,-103.5 \" stroke=\"#000000\"/>\n",
       "<text fill=\"#000000\" font-family=\"Times,serif\" font-size=\"14.00\" text-anchor=\"middle\" x=\"221.2588\" y=\"-88.3\">output:</text>\n",
       "<polyline fill=\"none\" points=\"249.0933,-81.5 249.0933,-125.5 \" stroke=\"#000000\"/>\n",
       "<text fill=\"#000000\" font-family=\"Times,serif\" font-size=\"14.00\" text-anchor=\"middle\" x=\"290.9175\" y=\"-110.3\">(None, 1, 3)</text>\n",
       "<polyline fill=\"none\" points=\"249.0933,-103.5 332.7417,-103.5 \" stroke=\"#000000\"/>\n",
       "<text fill=\"#000000\" font-family=\"Times,serif\" font-size=\"14.00\" text-anchor=\"middle\" x=\"290.9175\" y=\"-88.3\">(None, 3)</text>\n",
       "</g>\n",
       "<!-- 4919780968&#45;&gt;4450397824 -->\n",
       "<g class=\"edge\" id=\"edge3\">\n",
       "<title>4919780968-&gt;4450397824</title>\n",
       "<path d=\"M173.3367,-162.3664C175.8997,-154.0624 178.8661,-144.4514 181.6492,-135.4341\" fill=\"none\" stroke=\"#000000\"/>\n",
       "<polygon fill=\"#000000\" points=\"185.0774,-136.1943 184.6823,-125.6068 178.3887,-134.1299 185.0774,-136.1943\" stroke=\"#000000\"/>\n",
       "</g>\n",
       "<!-- 4919781920 -->\n",
       "<g class=\"node\" id=\"node6\">\n",
       "<title>4919781920</title>\n",
       "<polygon fill=\"none\" points=\"363.3276,-81.5 363.3276,-125.5 635.6831,-125.5 635.6831,-81.5 363.3276,-81.5\" stroke=\"#000000\"/>\n",
       "<text fill=\"#000000\" font-family=\"Times,serif\" font-size=\"14.00\" text-anchor=\"middle\" x=\"429.8467\" y=\"-99.3\">FlattenUsers: Flatten</text>\n",
       "<polyline fill=\"none\" points=\"496.3657,-81.5 496.3657,-125.5 \" stroke=\"#000000\"/>\n",
       "<text fill=\"#000000\" font-family=\"Times,serif\" font-size=\"14.00\" text-anchor=\"middle\" x=\"524.2002\" y=\"-110.3\">input:</text>\n",
       "<polyline fill=\"none\" points=\"496.3657,-103.5 552.0347,-103.5 \" stroke=\"#000000\"/>\n",
       "<text fill=\"#000000\" font-family=\"Times,serif\" font-size=\"14.00\" text-anchor=\"middle\" x=\"524.2002\" y=\"-88.3\">output:</text>\n",
       "<polyline fill=\"none\" points=\"552.0347,-81.5 552.0347,-125.5 \" stroke=\"#000000\"/>\n",
       "<text fill=\"#000000\" font-family=\"Times,serif\" font-size=\"14.00\" text-anchor=\"middle\" x=\"593.8589\" y=\"-110.3\">(None, 1, 3)</text>\n",
       "<polyline fill=\"none\" points=\"552.0347,-103.5 635.6831,-103.5 \" stroke=\"#000000\"/>\n",
       "<text fill=\"#000000\" font-family=\"Times,serif\" font-size=\"14.00\" text-anchor=\"middle\" x=\"593.8589\" y=\"-88.3\">(None, 3)</text>\n",
       "</g>\n",
       "<!-- 4919782144&#45;&gt;4919781920 -->\n",
       "<g class=\"edge\" id=\"edge4\">\n",
       "<title>4919782144-&gt;4919781920</title>\n",
       "<path d=\"M508.9531,-162.3664C507.6346,-154.1516 506.111,-144.6579 504.6773,-135.7252\" fill=\"none\" stroke=\"#000000\"/>\n",
       "<polygon fill=\"#000000\" points=\"508.0939,-134.9258 503.0534,-125.6068 501.1823,-136.0351 508.0939,-134.9258\" stroke=\"#000000\"/>\n",
       "</g>\n",
       "<!-- 4919781472 -->\n",
       "<g class=\"node\" id=\"node7\">\n",
       "<title>4919781472</title>\n",
       "<polygon fill=\"none\" points=\"186.3896,-.5 186.3896,-44.5 490.6211,-44.5 490.6211,-.5 186.3896,-.5\" stroke=\"#000000\"/>\n",
       "<text fill=\"#000000\" font-family=\"Times,serif\" font-size=\"14.00\" text-anchor=\"middle\" x=\"240.8604\" y=\"-18.3\">DotProduct: Dot</text>\n",
       "<polyline fill=\"none\" points=\"295.3311,-.5 295.3311,-44.5 \" stroke=\"#000000\"/>\n",
       "<text fill=\"#000000\" font-family=\"Times,serif\" font-size=\"14.00\" text-anchor=\"middle\" x=\"323.1655\" y=\"-29.3\">input:</text>\n",
       "<polyline fill=\"none\" points=\"295.3311,-22.5 351,-22.5 \" stroke=\"#000000\"/>\n",
       "<text fill=\"#000000\" font-family=\"Times,serif\" font-size=\"14.00\" text-anchor=\"middle\" x=\"323.1655\" y=\"-7.3\">output:</text>\n",
       "<polyline fill=\"none\" points=\"351,-.5 351,-44.5 \" stroke=\"#000000\"/>\n",
       "<text fill=\"#000000\" font-family=\"Times,serif\" font-size=\"14.00\" text-anchor=\"middle\" x=\"420.8105\" y=\"-29.3\">[(None, 3), (None, 3)]</text>\n",
       "<polyline fill=\"none\" points=\"351,-22.5 490.6211,-22.5 \" stroke=\"#000000\"/>\n",
       "<text fill=\"#000000\" font-family=\"Times,serif\" font-size=\"14.00\" text-anchor=\"middle\" x=\"420.3242\" y=\"-7.3\">(None, 1)</text>\n",
       "</g>\n",
       "<!-- 4450397824&#45;&gt;4919781472 -->\n",
       "<g class=\"edge\" id=\"edge5\">\n",
       "<title>4450397824-&gt;4919781472</title>\n",
       "<path d=\"M231.6738,-81.3664C249.4988,-71.5444 270.6422,-59.894 289.3961,-49.5602\" fill=\"none\" stroke=\"#000000\"/>\n",
       "<polygon fill=\"#000000\" points=\"291.3163,-52.4984 298.3855,-44.6068 287.938,-46.3675 291.3163,-52.4984\" stroke=\"#000000\"/>\n",
       "</g>\n",
       "<!-- 4919781920&#45;&gt;4919781472 -->\n",
       "<g class=\"edge\" id=\"edge6\">\n",
       "<title>4919781920-&gt;4919781472</title>\n",
       "<path d=\"M455.5114,-81.3664C435.7225,-71.4105 412.1995,-59.5759 391.453,-49.1382\" fill=\"none\" stroke=\"#000000\"/>\n",
       "<polygon fill=\"#000000\" points=\"392.9523,-45.9746 382.4461,-44.6068 389.8063,-52.2278 392.9523,-45.9746\" stroke=\"#000000\"/>\n",
       "</g>\n",
       "</g>\n",
       "</svg>"
      ],
      "text/plain": [
       "<IPython.core.display.SVG object>"
      ]
     },
     "execution_count": 12,
     "metadata": {},
     "output_type": "execute_result"
    }
   ],
   "source": [
    "SVG(model_to_dot(model,  show_shapes=True, show_layer_names=True, rankdir='HB').create(prog='dot', format='svg'))"
   ]
  },
  {
   "cell_type": "markdown",
   "metadata": {},
   "source": [
    "We can see that in the `Merge` layer, we take the dot product of the user and the item embeddings to obtain the rating.\n",
    "\n",
    "We can also summarise our model as follows:"
   ]
  },
  {
   "cell_type": "code",
   "execution_count": 13,
   "metadata": {
    "ExecuteTime": {
     "end_time": "2018-12-08T08:05:16.598682Z",
     "start_time": "2018-12-08T08:05:16.592345Z"
    }
   },
   "outputs": [
    {
     "name": "stdout",
     "output_type": "stream",
     "text": [
      "__________________________________________________________________________________________________\n",
      "Layer (type)                    Output Shape         Param #     Connected to                     \n",
      "==================================================================================================\n",
      "Item (InputLayer)               (None, 1)            0                                            \n",
      "__________________________________________________________________________________________________\n",
      "User (InputLayer)               (None, 1)            0                                            \n",
      "__________________________________________________________________________________________________\n",
      "Movie-Embedding (Embedding)     (None, 1, 3)         11121       Item[0][0]                       \n",
      "__________________________________________________________________________________________________\n",
      "User-Embedding (Embedding)      (None, 1, 3)         18123       User[0][0]                       \n",
      "__________________________________________________________________________________________________\n",
      "FlattenMovies (Flatten)         (None, 3)            0           Movie-Embedding[0][0]            \n",
      "__________________________________________________________________________________________________\n",
      "FlattenUsers (Flatten)          (None, 3)            0           User-Embedding[0][0]             \n",
      "__________________________________________________________________________________________________\n",
      "DotProduct (Dot)                (None, 1)            0           FlattenMovies[0][0]              \n",
      "                                                                 FlattenUsers[0][0]               \n",
      "==================================================================================================\n",
      "Total params: 29,244\n",
      "Trainable params: 29,244\n",
      "Non-trainable params: 0\n",
      "__________________________________________________________________________________________________\n"
     ]
    }
   ],
   "source": [
    "model.summary()"
   ]
  },
  {
   "cell_type": "markdown",
   "metadata": {},
   "source": [
    "So, we have `29,244` parameters to learn! Let's train our model now!"
   ]
  },
  {
   "cell_type": "code",
   "execution_count": 14,
   "metadata": {
    "ExecuteTime": {
     "end_time": "2018-12-08T08:11:47.764164Z",
     "start_time": "2018-12-08T08:05:16.603607Z"
    },
    "scrolled": true
   },
   "outputs": [
    {
     "name": "stdout",
     "output_type": "stream",
     "text": [
      "Train on 490102 samples, validate on 210044 samples\n",
      "Epoch 1/100\n",
      "490102/490102 [==============================] - 5s 9us/step - loss: 10.4027 - val_loss: 4.3412\n",
      "Epoch 2/100\n",
      "490102/490102 [==============================] - 4s 8us/step - loss: 2.4825 - val_loss: 1.5954\n",
      "Epoch 3/100\n",
      "490102/490102 [==============================] - 4s 8us/step - loss: 1.2595 - val_loss: 1.0935\n",
      "Epoch 4/100\n",
      "490102/490102 [==============================] - 4s 8us/step - loss: 0.9809 - val_loss: 0.9458\n",
      "Epoch 5/100\n",
      "490102/490102 [==============================] - 4s 8us/step - loss: 0.8926 - val_loss: 0.8937\n",
      "Epoch 6/100\n",
      "490102/490102 [==============================] - 4s 9us/step - loss: 0.8601 - val_loss: 0.8726\n",
      "Epoch 7/100\n",
      "490102/490102 [==============================] - 5s 10us/step - loss: 0.8464 - val_loss: 0.8639\n",
      "Epoch 8/100\n",
      "490102/490102 [==============================] - 4s 8us/step - loss: 0.8398 - val_loss: 0.8587\n",
      "Epoch 9/100\n",
      "490102/490102 [==============================] - 4s 8us/step - loss: 0.8359 - val_loss: 0.8567\n",
      "Epoch 10/100\n",
      "490102/490102 [==============================] - 4s 7us/step - loss: 0.8334 - val_loss: 0.8534\n",
      "Epoch 11/100\n",
      "490102/490102 [==============================] - 4s 8us/step - loss: 0.8311 - val_loss: 0.8523\n",
      "Epoch 12/100\n",
      "490102/490102 [==============================] - 4s 8us/step - loss: 0.8292 - val_loss: 0.8508\n",
      "Epoch 13/100\n",
      "490102/490102 [==============================] - 4s 8us/step - loss: 0.8271 - val_loss: 0.8482\n",
      "Epoch 14/100\n",
      "490102/490102 [==============================] - 4s 8us/step - loss: 0.8249 - val_loss: 0.8460\n",
      "Epoch 15/100\n",
      "490102/490102 [==============================] - 4s 8us/step - loss: 0.8219 - val_loss: 0.8443\n",
      "Epoch 16/100\n",
      "490102/490102 [==============================] - 4s 8us/step - loss: 0.8186 - val_loss: 0.8418\n",
      "Epoch 17/100\n",
      "490102/490102 [==============================] - 4s 8us/step - loss: 0.8145 - val_loss: 0.8387\n",
      "Epoch 18/100\n",
      "490102/490102 [==============================] - 4s 7us/step - loss: 0.8099 - val_loss: 0.8351\n",
      "Epoch 19/100\n",
      "490102/490102 [==============================] - 4s 7us/step - loss: 0.8047 - val_loss: 0.8311\n",
      "Epoch 20/100\n",
      "490102/490102 [==============================] - 4s 8us/step - loss: 0.7992 - val_loss: 0.8277\n",
      "Epoch 21/100\n",
      "490102/490102 [==============================] - 4s 9us/step - loss: 0.7934 - val_loss: 0.8234\n",
      "Epoch 22/100\n",
      "490102/490102 [==============================] - 4s 8us/step - loss: 0.7880 - val_loss: 0.8205\n",
      "Epoch 23/100\n",
      "490102/490102 [==============================] - 4s 7us/step - loss: 0.7828 - val_loss: 0.8164\n",
      "Epoch 24/100\n",
      "490102/490102 [==============================] - 4s 7us/step - loss: 0.7777 - val_loss: 0.8140\n",
      "Epoch 25/100\n",
      "490102/490102 [==============================] - 4s 8us/step - loss: 0.7732 - val_loss: 0.8111\n",
      "Epoch 26/100\n",
      "490102/490102 [==============================] - 4s 8us/step - loss: 0.7685 - val_loss: 0.8090\n",
      "Epoch 27/100\n",
      "490102/490102 [==============================] - 4s 7us/step - loss: 0.7644 - val_loss: 0.8065\n",
      "Epoch 28/100\n",
      "490102/490102 [==============================] - 4s 7us/step - loss: 0.7603 - val_loss: 0.8045\n",
      "Epoch 29/100\n",
      "490102/490102 [==============================] - 4s 8us/step - loss: 0.7562 - val_loss: 0.8019\n",
      "Epoch 30/100\n",
      "490102/490102 [==============================] - 4s 7us/step - loss: 0.7528 - val_loss: 0.8017\n",
      "Epoch 31/100\n",
      "490102/490102 [==============================] - 4s 7us/step - loss: 0.7495 - val_loss: 0.8003\n",
      "Epoch 32/100\n",
      "490102/490102 [==============================] - 4s 8us/step - loss: 0.7466 - val_loss: 0.7993 - loss: 0\n",
      "Epoch 33/100\n",
      "490102/490102 [==============================] - 4s 7us/step - loss: 0.7438 - val_loss: 0.7985\n",
      "Epoch 34/100\n",
      "490102/490102 [==============================] - 4s 7us/step - loss: 0.7414 - val_loss: 0.7981\n",
      "Epoch 35/100\n",
      "490102/490102 [==============================] - 4s 8us/step - loss: 0.7393 - val_loss: 0.7973\n",
      "Epoch 36/100\n",
      "490102/490102 [==============================] - 4s 8us/step - loss: 0.7372 - val_loss: 0.7975\n",
      "Epoch 37/100\n",
      "490102/490102 [==============================] - 4s 7us/step - loss: 0.7356 - val_loss: 0.7968\n",
      "Epoch 38/100\n",
      "490102/490102 [==============================] - 4s 7us/step - loss: 0.7339 - val_loss: 0.7969\n",
      "Epoch 39/100\n",
      "490102/490102 [==============================] - 4s 8us/step - loss: 0.7327 - val_loss: 0.7972\n",
      "Epoch 40/100\n",
      "490102/490102 [==============================] - 4s 8us/step - loss: 0.7312 - val_loss: 0.7971\n",
      "Epoch 41/100\n",
      "490102/490102 [==============================] - 4s 8us/step - loss: 0.7301 - val_loss: 0.7971\n",
      "Epoch 42/100\n",
      "490102/490102 [==============================] - 4s 7us/step - loss: 0.7291 - val_loss: 0.7977\n",
      "Epoch 43/100\n",
      "490102/490102 [==============================] - 4s 8us/step - loss: 0.7281 - val_loss: 0.7979\n",
      "Epoch 44/100\n",
      "490102/490102 [==============================] - 4s 8us/step - loss: 0.7274 - val_loss: 0.7975\n",
      "Epoch 45/100\n",
      "490102/490102 [==============================] - 4s 8us/step - loss: 0.7264 - val_loss: 0.7980\n",
      "Epoch 46/100\n",
      "490102/490102 [==============================] - 4s 7us/step - loss: 0.7259 - val_loss: 0.7976\n",
      "Epoch 47/100\n",
      "490102/490102 [==============================] - 4s 8us/step - loss: 0.7249 - val_loss: 0.7980\n",
      "Epoch 48/100\n",
      "490102/490102 [==============================] - 4s 8us/step - loss: 0.7244 - val_loss: 0.7978\n",
      "Epoch 49/100\n",
      "490102/490102 [==============================] - 4s 8us/step - loss: 0.7239 - val_loss: 0.7980\n",
      "Epoch 50/100\n",
      "490102/490102 [==============================] - 4s 8us/step - loss: 0.7233 - val_loss: 0.7985\n",
      "Epoch 51/100\n",
      "490102/490102 [==============================] - 4s 8us/step - loss: 0.7228 - val_loss: 0.7982\n",
      "Epoch 52/100\n",
      "490102/490102 [==============================] - 4s 7us/step - loss: 0.7224 - val_loss: 0.7997\n",
      "Epoch 53/100\n",
      "490102/490102 [==============================] - 4s 7us/step - loss: 0.7218 - val_loss: 0.7998\n",
      "Epoch 54/100\n",
      "490102/490102 [==============================] - 4s 7us/step - loss: 0.7215 - val_loss: 0.7990\n",
      "Epoch 55/100\n",
      "490102/490102 [==============================] - 4s 7us/step - loss: 0.7212 - val_loss: 0.7996\n",
      "Epoch 56/100\n",
      "490102/490102 [==============================] - 4s 8us/step - loss: 0.7208 - val_loss: 0.7997\n",
      "Epoch 57/100\n",
      "490102/490102 [==============================] - 4s 8us/step - loss: 0.7204 - val_loss: 0.8001\n",
      "Epoch 58/100\n",
      "490102/490102 [==============================] - 4s 7us/step - loss: 0.7201 - val_loss: 0.8003\n",
      "Epoch 59/100\n",
      "490102/490102 [==============================] - 4s 7us/step - loss: 0.7197 - val_loss: 0.8006\n",
      "Epoch 60/100\n",
      "490102/490102 [==============================] - 4s 8us/step - loss: 0.7195 - val_loss: 0.8009\n",
      "Epoch 61/100\n",
      "490102/490102 [==============================] - 5s 10us/step - loss: 0.7191 - val_loss: 0.8015\n",
      "Epoch 62/100\n",
      "490102/490102 [==============================] - 4s 9us/step - loss: 0.7190 - val_loss: 0.8008\n",
      "Epoch 63/100\n",
      "490102/490102 [==============================] - 4s 9us/step - loss: 0.7187 - val_loss: 0.8017\n",
      "Epoch 64/100\n",
      "490102/490102 [==============================] - 5s 9us/step - loss: 0.7183 - val_loss: 0.8015\n",
      "Epoch 65/100\n",
      "490102/490102 [==============================] - 4s 9us/step - loss: 0.7184 - val_loss: 0.8017\n",
      "Epoch 66/100\n",
      "490102/490102 [==============================] - 5s 11us/step - loss: 0.7181 - val_loss: 0.8017\n",
      "Epoch 67/100\n",
      "490102/490102 [==============================] - 4s 8us/step - loss: 0.7180 - val_loss: 0.8027\n",
      "Epoch 68/100\n",
      "490102/490102 [==============================] - 4s 8us/step - loss: 0.7178 - val_loss: 0.8020\n",
      "Epoch 69/100\n",
      "490102/490102 [==============================] - 5s 10us/step - loss: 0.7177 - val_loss: 0.8018\n",
      "Epoch 70/100\n",
      "490102/490102 [==============================] - 6s 12us/step - loss: 0.7174 - val_loss: 0.8028\n",
      "Epoch 71/100\n",
      "490102/490102 [==============================] - 5s 10us/step - loss: 0.7171 - val_loss: 0.8032\n",
      "Epoch 72/100\n",
      "490102/490102 [==============================] - 5s 9us/step - loss: 0.7172 - val_loss: 0.8029\n",
      "Epoch 73/100\n",
      "490102/490102 [==============================] - 4s 9us/step - loss: 0.7169 - val_loss: 0.8032\n",
      "Epoch 74/100\n",
      "490102/490102 [==============================] - 4s 8us/step - loss: 0.7169 - val_loss: 0.8030ETA: 0s - loss: 0.7\n",
      "Epoch 75/100\n",
      "490102/490102 [==============================] - 4s 9us/step - loss: 0.7167 - val_loss: 0.8038\n",
      "Epoch 76/100\n"
     ]
    },
    {
     "name": "stdout",
     "output_type": "stream",
     "text": [
      "490102/490102 [==============================] - 4s 8us/step - loss: 0.7165 - val_loss: 0.8036\n",
      "Epoch 77/100\n",
      "490102/490102 [==============================] - 4s 7us/step - loss: 0.7164 - val_loss: 0.8036\n",
      "Epoch 78/100\n",
      "490102/490102 [==============================] - 4s 8us/step - loss: 0.7163 - val_loss: 0.8044: 0s - loss: 0.715 - ETA: 0s - l\n",
      "Epoch 79/100\n",
      "490102/490102 [==============================] - 4s 8us/step - loss: 0.7161 - val_loss: 0.8048\n",
      "Epoch 80/100\n",
      "490102/490102 [==============================] - 4s 7us/step - loss: 0.7162 - val_loss: 0.8047\n",
      "Epoch 81/100\n",
      "490102/490102 [==============================] - 4s 8us/step - loss: 0.7159 - val_loss: 0.8046\n",
      "Epoch 82/100\n",
      "490102/490102 [==============================] - 4s 8us/step - loss: 0.7158 - val_loss: 0.8049\n",
      "Epoch 83/100\n",
      "490102/490102 [==============================] - 4s 7us/step - loss: 0.7157 - val_loss: 0.8055\n",
      "Epoch 84/100\n",
      "490102/490102 [==============================] - 4s 8us/step - loss: 0.7157 - val_loss: 0.8050\n",
      "Epoch 85/100\n",
      "490102/490102 [==============================] - 4s 8us/step - loss: 0.7156 - val_loss: 0.8047: 0s - loss: 0\n",
      "Epoch 86/100\n",
      "490102/490102 [==============================] - 4s 8us/step - loss: 0.7155 - val_loss: 0.8060\n",
      "Epoch 87/100\n",
      "490102/490102 [==============================] - 4s 8us/step - loss: 0.7155 - val_loss: 0.8058\n",
      "Epoch 88/100\n",
      "490102/490102 [==============================] - 4s 8us/step - loss: 0.7154 - val_loss: 0.8056TA: 0s -\n",
      "Epoch 89/100\n",
      "490102/490102 [==============================] - 4s 8us/step - loss: 0.7152 - val_loss: 0.8062\n",
      "Epoch 90/100\n",
      "490102/490102 [==============================] - 4s 8us/step - loss: 0.7150 - val_loss: 0.8065\n",
      "Epoch 91/100\n",
      "490102/490102 [==============================] - 4s 7us/step - loss: 0.7151 - val_loss: 0.8072\n",
      "Epoch 92/100\n",
      "490102/490102 [==============================] - 4s 8us/step - loss: 0.7150 - val_loss: 0.8065oss:  - ETA: 0s - \n",
      "Epoch 93/100\n",
      "490102/490102 [==============================] - 4s 7us/step - loss: 0.7150 - val_loss: 0.8068\n",
      "Epoch 94/100\n",
      "490102/490102 [==============================] - 4s 8us/step - loss: 0.7148 - val_loss: 0.8072\n",
      "Epoch 95/100\n",
      "490102/490102 [==============================] - 4s 8us/step - loss: 0.7148 - val_loss: 0.8066lo\n",
      "Epoch 96/100\n",
      "490102/490102 [==============================] - 4s 8us/step - loss: 0.7148 - val_loss: 0.8076\n",
      "Epoch 97/100\n",
      "490102/490102 [==============================] - 4s 8us/step - loss: 0.7146 - val_loss: 0.8074: 0s - loss: 0\n",
      "Epoch 98/100\n",
      "490102/490102 [==============================] - 4s 8us/step - loss: 0.7146 - val_loss: 0.8081\n",
      "Epoch 99/100\n",
      "490102/490102 [==============================] - 4s 8us/step - loss: 0.7145 - val_loss: 0.8075\n",
      "Epoch 100/100\n",
      "490102/490102 [==============================] - 4s 8us/step - loss: 0.7145 - val_loss: 0.8082\n"
     ]
    }
   ],
   "source": [
    "callbacks = [keras.callbacks.EarlyStopping(patience=5, verbose=1)]\n",
    "svd_history = model.fit(x=[train.user_id, train.item_id], \n",
    "                        y=train.rating, \n",
    "                        batch_size=128,\n",
    "                        validation_data=([valid.user_id, valid.item_id], valid.rating),\n",
    "                        epochs=100, \n",
    "                        verbose=1)"
   ]
  },
  {
   "cell_type": "markdown",
   "metadata": {},
   "source": [
    "Before we test how well our model does in the test setting, we can visualise the train loss with epoch number."
   ]
  },
  {
   "cell_type": "code",
   "execution_count": 17,
   "metadata": {
    "ExecuteTime": {
     "end_time": "2018-12-08T08:36:06.033117Z",
     "start_time": "2018-12-08T08:36:05.755456Z"
    }
   },
   "outputs": [
    {
     "data": {
      "text/plain": [
       "Text(0,0.5,'Train Error')"
      ]
     },
     "execution_count": 17,
     "metadata": {},
     "output_type": "execute_result"
    },
    {
     "data": {
      "image/png": "[encoded data removed]",
      "text/plain": [
       "<Figure size 432x288 with 1 Axes>"
      ]
     },
     "metadata": {
      "needs_background": "light"
     },
     "output_type": "display_data"
    }
   ],
   "source": [
    "pd.Series(svd_history.history['loss']).plot(logy=True)\n",
    "pd.Series(svd_history.history['val_loss']).plot(logy=True)\n",
    "plt.xlabel(\"Epoch\")\n",
    "plt.ylabel(\"Train Error\")"
   ]
  },
  {
   "cell_type": "markdown",
   "metadata": {},
   "source": [
    "Prediction error\n",
    "\n",
    "Let's now see how our model does! I'll do a small post-processing step to round off our prediction to the nearest integer. This is usually not done, and thus just a whimsical step, since the training ratings are all integers! There are better ways to encode this intger requirement (one-hot encoding!), but we won't discuss them in this post."
   ]
  },
  {
   "cell_type": "code",
   "execution_count": 21,
   "metadata": {
    "ExecuteTime": {
     "end_time": "2018-12-08T08:37:53.945194Z",
     "start_time": "2018-12-08T08:37:51.904499Z"
    }
   },
   "outputs": [],
   "source": [
    "y_svd_hat = model.predict([test.user_id, test.item_id])\n",
    "y_svd_hat_round = np.round(y_svd_hat, 0)\n",
    "y_true = test.rating"
   ]
  },
  {
   "cell_type": "code",
   "execution_count": 23,
   "metadata": {
    "ExecuteTime": {
     "end_time": "2018-12-08T08:38:43.069387Z",
     "start_time": "2018-12-08T08:38:43.038347Z"
    }
   },
   "outputs": [
    {
     "name": "stdout",
     "output_type": "stream",
     "text": [
      "MAE 0.7033630326972429 0.6624775463819265\n",
      "MSE 0.8068664513854987 0.8889366566354399\n"
     ]
    }
   ],
   "source": [
    "from sklearn.metrics import mean_absolute_error, mean_squared_error\n",
    "print('MAE', mean_absolute_error(y_true, y_svd_hat), mean_absolute_error(y_true, y_svd_hat_round))\n",
    "print('MSE', mean_squared_error(y_true, y_svd_hat), mean_squared_error(y_true, y_svd_hat_round))"
   ]
  },
  {
   "cell_type": "markdown",
   "metadata": {},
   "source": [
    "Not bad! We're able to get a MAE of 0.66! I'm sure with a bit of parameter/hyper-parameter optimisation, we may be able to improve the results."
   ]
  },
  {
   "cell_type": "markdown",
   "metadata": {},
   "source": [
    "**Extracting the learnt embeddings**\n",
    "\n",
    "We can extract the learnt movie and item embeddings as follows:"
   ]
  },
  {
   "cell_type": "code",
   "execution_count": 25,
   "metadata": {
    "ExecuteTime": {
     "end_time": "2018-12-08T08:40:31.825734Z",
     "start_time": "2018-12-08T08:40:31.804090Z"
    }
   },
   "outputs": [
    {
     "data": {
      "text/html": [
       "<div>\n",
       "<style scoped>\n",
       "    .dataframe tbody tr th:only-of-type {\n",
       "        vertical-align: middle;\n",
       "    }\n",
       "\n",
       "    .dataframe tbody tr th {\n",
       "        vertical-align: top;\n",
       "    }\n",
       "\n",
       "    .dataframe thead th {\n",
       "        text-align: right;\n",
       "    }\n",
       "</style>\n",
       "<table border=\"1\" class=\"dataframe\">\n",
       "  <thead>\n",
       "    <tr style=\"text-align: right;\">\n",
       "      <th></th>\n",
       "      <th>0</th>\n",
       "      <th>1</th>\n",
       "      <th>2</th>\n",
       "    </tr>\n",
       "  </thead>\n",
       "  <tbody>\n",
       "    <tr>\n",
       "      <th>count</th>\n",
       "      <td>3707.000000</td>\n",
       "      <td>3707.000000</td>\n",
       "      <td>3707.000000</td>\n",
       "    </tr>\n",
       "    <tr>\n",
       "      <th>mean</th>\n",
       "      <td>1.014400</td>\n",
       "      <td>-1.106096</td>\n",
       "      <td>0.894115</td>\n",
       "    </tr>\n",
       "    <tr>\n",
       "      <th>std</th>\n",
       "      <td>0.607391</td>\n",
       "      <td>0.524166</td>\n",
       "      <td>0.556850</td>\n",
       "    </tr>\n",
       "    <tr>\n",
       "      <th>min</th>\n",
       "      <td>-1.293583</td>\n",
       "      <td>-4.454706</td>\n",
       "      <td>-1.021973</td>\n",
       "    </tr>\n",
       "    <tr>\n",
       "      <th>25%</th>\n",
       "      <td>0.553111</td>\n",
       "      <td>-1.485772</td>\n",
       "      <td>0.490252</td>\n",
       "    </tr>\n",
       "    <tr>\n",
       "      <th>50%</th>\n",
       "      <td>1.010024</td>\n",
       "      <td>-1.135719</td>\n",
       "      <td>0.920000</td>\n",
       "    </tr>\n",
       "    <tr>\n",
       "      <th>75%</th>\n",
       "      <td>1.456624</td>\n",
       "      <td>-0.781607</td>\n",
       "      <td>1.298432</td>\n",
       "    </tr>\n",
       "    <tr>\n",
       "      <th>max</th>\n",
       "      <td>2.987878</td>\n",
       "      <td>1.202077</td>\n",
       "      <td>2.523145</td>\n",
       "    </tr>\n",
       "  </tbody>\n",
       "</table>\n",
       "</div>"
      ],
      "text/plain": [
       "                 0            1            2\n",
       "count  3707.000000  3707.000000  3707.000000\n",
       "mean      1.014400    -1.106096     0.894115\n",
       "std       0.607391     0.524166     0.556850\n",
       "min      -1.293583    -4.454706    -1.021973\n",
       "25%       0.553111    -1.485772     0.490252\n",
       "50%       1.010024    -1.135719     0.920000\n",
       "75%       1.456624    -0.781607     1.298432\n",
       "max       2.987878     1.202077     2.523145"
      ]
     },
     "execution_count": 25,
     "metadata": {},
     "output_type": "execute_result"
    }
   ],
   "source": [
    "item_embedding_learnt = model.get_layer(name='Movie-Embedding').get_weights()[0]\n",
    "pd.DataFrame(item_embedding_learnt).describe()"
   ]
  },
  {
   "cell_type": "code",
   "execution_count": 26,
   "metadata": {
    "ExecuteTime": {
     "end_time": "2018-12-08T08:40:53.196451Z",
     "start_time": "2018-12-08T08:40:53.170704Z"
    }
   },
   "outputs": [
    {
     "data": {
      "text/html": [
       "<div>\n",
       "<style scoped>\n",
       "    .dataframe tbody tr th:only-of-type {\n",
       "        vertical-align: middle;\n",
       "    }\n",
       "\n",
       "    .dataframe tbody tr th {\n",
       "        vertical-align: top;\n",
       "    }\n",
       "\n",
       "    .dataframe thead th {\n",
       "        text-align: right;\n",
       "    }\n",
       "</style>\n",
       "<table border=\"1\" class=\"dataframe\">\n",
       "  <thead>\n",
       "    <tr style=\"text-align: right;\">\n",
       "      <th></th>\n",
       "      <th>0</th>\n",
       "      <th>1</th>\n",
       "      <th>2</th>\n",
       "    </tr>\n",
       "  </thead>\n",
       "  <tbody>\n",
       "    <tr>\n",
       "      <th>count</th>\n",
       "      <td>6041.000000</td>\n",
       "      <td>6041.000000</td>\n",
       "      <td>6041.000000</td>\n",
       "    </tr>\n",
       "    <tr>\n",
       "      <th>mean</th>\n",
       "      <td>1.026509</td>\n",
       "      <td>-1.007938</td>\n",
       "      <td>1.155853</td>\n",
       "    </tr>\n",
       "    <tr>\n",
       "      <th>std</th>\n",
       "      <td>0.483548</td>\n",
       "      <td>0.494692</td>\n",
       "      <td>0.334505</td>\n",
       "    </tr>\n",
       "    <tr>\n",
       "      <th>min</th>\n",
       "      <td>-1.755515</td>\n",
       "      <td>-2.725116</td>\n",
       "      <td>-0.783717</td>\n",
       "    </tr>\n",
       "    <tr>\n",
       "      <th>25%</th>\n",
       "      <td>0.743386</td>\n",
       "      <td>-1.330060</td>\n",
       "      <td>0.957482</td>\n",
       "    </tr>\n",
       "    <tr>\n",
       "      <th>50%</th>\n",
       "      <td>1.067138</td>\n",
       "      <td>-1.007277</td>\n",
       "      <td>1.171492</td>\n",
       "    </tr>\n",
       "    <tr>\n",
       "      <th>75%</th>\n",
       "      <td>1.347514</td>\n",
       "      <td>-0.690059</td>\n",
       "      <td>1.368848</td>\n",
       "    </tr>\n",
       "    <tr>\n",
       "      <th>max</th>\n",
       "      <td>3.438739</td>\n",
       "      <td>1.627385</td>\n",
       "      <td>2.493719</td>\n",
       "    </tr>\n",
       "  </tbody>\n",
       "</table>\n",
       "</div>"
      ],
      "text/plain": [
       "                 0            1            2\n",
       "count  6041.000000  6041.000000  6041.000000\n",
       "mean      1.026509    -1.007938     1.155853\n",
       "std       0.483548     0.494692     0.334505\n",
       "min      -1.755515    -2.725116    -0.783717\n",
       "25%       0.743386    -1.330060     0.957482\n",
       "50%       1.067138    -1.007277     1.171492\n",
       "75%       1.347514    -0.690059     1.368848\n",
       "max       3.438739     1.627385     2.493719"
      ]
     },
     "execution_count": 26,
     "metadata": {},
     "output_type": "execute_result"
    }
   ],
   "source": [
    "user_embedding_learnt = model.get_layer(name='User-Embedding').get_weights()[0]\n",
    "pd.DataFrame(user_embedding_learnt).describe()"
   ]
  },
  {
   "cell_type": "markdown",
   "metadata": {},
   "source": [
    "### Use user embedding cosine similarity to recommend item to user"
   ]
  },
  {
   "cell_type": "code",
   "execution_count": 38,
   "metadata": {
    "ExecuteTime": {
     "end_time": "2018-12-08T09:17:58.465539Z",
     "start_time": "2018-12-08T09:17:58.462662Z"
    }
   },
   "outputs": [],
   "source": [
    "from sklearn.metrics.pairwise import cosine_similarity"
   ]
  },
  {
   "cell_type": "code",
   "execution_count": 51,
   "metadata": {
    "ExecuteTime": {
     "end_time": "2018-12-08T09:28:41.273712Z",
     "start_time": "2018-12-08T09:28:41.071831Z"
    }
   },
   "outputs": [],
   "source": [
    "svd_user_cosine_similarity = cosine_similarity(user_embedding_learnt)"
   ]
  },
  {
   "cell_type": "code",
   "execution_count": 97,
   "metadata": {
    "ExecuteTime": {
     "end_time": "2018-12-08T10:01:02.759771Z",
     "start_time": "2018-12-08T10:01:02.756535Z"
    }
   },
   "outputs": [],
   "source": [
    "import operator\n",
    "from tqdm import tqdm_notebook, tqdm"
   ]
  },
  {
   "cell_type": "code",
   "execution_count": 98,
   "metadata": {
    "ExecuteTime": {
     "end_time": "2018-12-08T10:01:35.046052Z",
     "start_time": "2018-12-08T10:01:04.020098Z"
    },
    "scrolled": false
   },
   "outputs": [
    {
     "name": "stderr",
     "output_type": "stream",
     "text": [
      "100%|██████████| 6041/6041 [00:31<00:00, 162.19it/s]\n"
     ]
    }
   ],
   "source": [
    "top_n = 10\n",
    "svd_user_top10_sims = []\n",
    "for user_idx in tqdm(range(len(user_embedding_learnt))):\n",
    "    sims = {\n",
    "        sim_user_idx: similarity\n",
    "        for sim_user_idx, similarity in enumerate(\n",
    "            svd_user_cosine_similarity[user_idx]) if sim_user_idx != user_idx\n",
    "    }\n",
    "    sims = sorted(sims.items(), key=operator.itemgetter(1), reverse=True)\n",
    "    svd_user_top10_sims.append((user_idx, sims[:top_n]))"
   ]
  },
  {
   "cell_type": "code",
   "execution_count": 99,
   "metadata": {
    "ExecuteTime": {
     "end_time": "2018-12-08T10:01:46.976350Z",
     "start_time": "2018-12-08T10:01:46.969592Z"
    }
   },
   "outputs": [
    {
     "data": {
      "text/plain": [
       "(0,\n",
       " [(4612, 0.9999963),\n",
       "  (5413, 0.99998844),\n",
       "  (605, 0.99992204),\n",
       "  (575, 0.9998851),\n",
       "  (4940, 0.99984634),\n",
       "  (3935, 0.999827),\n",
       "  (2615, 0.9998198),\n",
       "  (2745, 0.9997857),\n",
       "  (3149, 0.9997063),\n",
       "  (942, 0.999612)])"
      ]
     },
     "execution_count": 99,
     "metadata": {},
     "output_type": "execute_result"
    }
   ],
   "source": [
    "svd_user_top10_sims[0]"
   ]
  },
  {
   "cell_type": "code",
   "execution_count": 157,
   "metadata": {
    "ExecuteTime": {
     "end_time": "2018-12-08T10:24:40.898974Z",
     "start_time": "2018-12-08T10:24:40.892125Z"
    }
   },
   "outputs": [],
   "source": [
    "def recomendate_by_svd_user_cosine_sims(user_id, top_n=10):\n",
    "    rec_items = []\n",
    "    rec_item_ids = set()\n",
    "    \n",
    "    rated_item_ids = np.unique(ratings[ratings.user_id == user_id]['item_id'].values)\n",
    "    sims = svd_user_top10_sims[user_id][1]\n",
    "    for sim_user_id, sim_score in sims:\n",
    "        items = ratings[ratings.user_id == sim_user_id]\n",
    "        items = items.sort_values('rating',ascending=False)[:top_n * 10]\n",
    "        items = items[['item_id','rating']].to_dict('records')\n",
    "        \n",
    "        for rec in items:\n",
    "            item_id, rating = rec['item_id'], rec['rating']\n",
    "            if item_id in rec_item_ids or item_id in rated_item_ids: \n",
    "                continue\n",
    "            rec_item_ids.add(item_id)\n",
    "            rec_items.append((item_id, float(sim_score) * int(rating) / 5))\n",
    "    return sorted(rec_items, key=operator.itemgetter(1), reverse=True)[:top_n]"
   ]
  },
  {
   "cell_type": "code",
   "execution_count": 160,
   "metadata": {
    "ExecuteTime": {
     "end_time": "2018-12-08T10:24:57.458098Z",
     "start_time": "2018-12-08T10:24:57.414825Z"
    }
   },
   "outputs": [
    {
     "data": {
      "text/plain": [
       "[(573, 0.9999963045120239),\n",
       " (3025, 0.9999963045120239),\n",
       " (1445, 0.9999963045120239),\n",
       " (1466, 0.9999963045120239),\n",
       " (21, 0.9999963045120239),\n",
       " (699, 0.9999963045120239),\n",
       " (1484, 0.9999963045120239),\n",
       " (1507, 0.9999963045120239),\n",
       " (2403, 0.9999963045120239),\n",
       " (1399, 0.9999963045120239)]"
      ]
     },
     "execution_count": 160,
     "metadata": {},
     "output_type": "execute_result"
    }
   ],
   "source": [
    "recomendate_by_svd_user_cosine_sims(0)"
   ]
  },
  {
   "cell_type": "code",
   "execution_count": 159,
   "metadata": {
    "ExecuteTime": {
     "end_time": "2018-12-08T10:24:47.538891Z",
     "start_time": "2018-12-08T10:24:47.498293Z"
    }
   },
   "outputs": [
    {
     "data": {
      "text/plain": [
       "[(3493, 0.9998939633369446),\n",
       " (2981, 0.9998939633369446),\n",
       " (327, 0.9998939633369446),\n",
       " (432, 0.9998939633369446),\n",
       " (1104, 0.9998939633369446),\n",
       " (2936, 0.9998939633369446),\n",
       " (1736, 0.9998939633369446),\n",
       " (3134, 0.9998939633369446),\n",
       " (3488, 0.9998939633369446),\n",
       " (2099, 0.9998939633369446)]"
      ]
     },
     "execution_count": 159,
     "metadata": {},
     "output_type": "execute_result"
    }
   ],
   "source": [
    "recomendate_by_svd_user_cosine_sims(3)"
   ]
  },
  {
   "cell_type": "markdown",
   "metadata": {},
   "source": [
    "We can see that both the user and the item embeddings have negative elements. There are some applications which require that the learnt embeddings be non-negative. This approach is also called non-negative matrix factorisation, which we'll workout now."
   ]
  },
  {
   "cell_type": "markdown",
   "metadata": {},
   "source": [
    "## Non-negative Matrix factorisation (NNMF) in Keras"
   ]
  },
  {
   "cell_type": "markdown",
   "metadata": {},
   "source": [
    "The code for NNMF remains exactly the same as the code for matrix factorisation. The only change is that we add `non-negativity` constraints on the learnt embeddings. This is done as follows:"
   ]
  },
  {
   "cell_type": "code",
   "execution_count": 165,
   "metadata": {
    "ExecuteTime": {
     "end_time": "2018-12-08T11:43:17.815684Z",
     "start_time": "2018-12-08T11:43:17.661824Z"
    }
   },
   "outputs": [],
   "source": [
    "from keras.constraints import non_neg\n",
    "movie_input = keras.layers.Input(shape=[1],name='Item-ID')\n",
    "movie_embedding = keras.layers.Embedding(n_movies + 1, n_latent_factors, name='NonNegMovie-Embedding', embeddings_constraint=non_neg())(movie_input)\n",
    "movie_vec = keras.layers.Flatten(name='FlattenMovies')(movie_embedding)\n",
    "\n",
    "user_input = keras.layers.Input(shape=[1],name='User-ID')\n",
    "user_embedding = keras.layers.Embedding(n_users + 1, n_latent_factors,name='NonNegUser-Embedding',embeddings_constraint=non_neg())(user_input)\n",
    "user_vec = keras.layers.Flatten(name='FlattenUsers')(user_embedding)\n",
    "\n",
    "prod = keras.layers.merge.dot([movie_vec, user_vec], axes=1, name='DotProduct')\n",
    "model = keras.Model([user_input, movie_input], prod)\n",
    "model.compile('adam', 'mean_squared_error')"
   ]
  },
  {
   "cell_type": "markdown",
   "metadata": {},
   "source": [
    "We now verify if we are indeed able to learn non-negative embeddings. I'll not compare the performance of NNMF on the test set, in the interest of space."
   ]
  },
  {
   "cell_type": "code",
   "execution_count": 166,
   "metadata": {
    "ExecuteTime": {
     "end_time": "2018-12-08T11:55:56.221971Z",
     "start_time": "2018-12-08T11:43:19.671011Z"
    },
    "scrolled": false
   },
   "outputs": [
    {
     "name": "stdout",
     "output_type": "stream",
     "text": [
      "Train on 490102 samples, validate on 210044 samples\n",
      "Epoch 1/100\n",
      "490102/490102 [==============================] - 7s 15us/step - loss: 8.7242 - val_loss: 3.4287\n",
      "Epoch 2/100\n",
      "490102/490102 [==============================] - 7s 15us/step - loss: 2.1229 - val_loss: 1.4592\n",
      "Epoch 3/100\n",
      "490102/490102 [==============================] - 7s 15us/step - loss: 1.1842 - val_loss: 1.0540\n",
      "Epoch 4/100\n",
      "490102/490102 [==============================] - 10s 20us/step - loss: 0.9569 - val_loss: 0.9317\n",
      "Epoch 5/100\n",
      "490102/490102 [==============================] - 9s 19us/step - loss: 0.8841 - val_loss: 0.8879\n",
      "Epoch 6/100\n",
      "490102/490102 [==============================] - 7s 15us/step - loss: 0.8570 - val_loss: 0.8708\n",
      "Epoch 7/100\n",
      "490102/490102 [==============================] - 8s 16us/step - loss: 0.8455 - val_loss: 0.8625\n",
      "Epoch 8/100\n",
      "490102/490102 [==============================] - 9s 18us/step - loss: 0.8399 - val_loss: 0.8588\n",
      "Epoch 9/100\n",
      "490102/490102 [==============================] - 8s 15us/step - loss: 0.8369 - val_loss: 0.8565\n",
      "Epoch 10/100\n",
      "490102/490102 [==============================] - 7s 15us/step - loss: 0.8350 - val_loss: 0.8545\n",
      "Epoch 11/100\n",
      "490102/490102 [==============================] - 8s 15us/step - loss: 0.8339 - val_loss: 0.8536\n",
      "Epoch 12/100\n",
      "490102/490102 [==============================] - 6s 13us/step - loss: 0.8327 - val_loss: 0.8527\n",
      "Epoch 13/100\n",
      "490102/490102 [==============================] - 8s 17us/step - loss: 0.8320 - val_loss: 0.8525\n",
      "Epoch 14/100\n",
      "490102/490102 [==============================] - 9s 18us/step - loss: 0.8314 - val_loss: 0.8512\n",
      "Epoch 15/100\n",
      "490102/490102 [==============================] - 9s 18us/step - loss: 0.8310 - val_loss: 0.8515\n",
      "Epoch 16/100\n",
      "490102/490102 [==============================] - 9s 18us/step - loss: 0.8306 - val_loss: 0.8508\n",
      "Epoch 17/100\n",
      "490102/490102 [==============================] - 9s 17us/step - loss: 0.8302 - val_loss: 0.8504\n",
      "Epoch 18/100\n",
      "490102/490102 [==============================] - 7s 15us/step - loss: 0.8299 - val_loss: 0.8506\n",
      "Epoch 19/100\n",
      "490102/490102 [==============================] - 10s 19us/step - loss: 0.8298 - val_loss: 0.8503\n",
      "Epoch 20/100\n",
      "490102/490102 [==============================] - 11s 22us/step - loss: 0.8294 - val_loss: 0.8504\n",
      "Epoch 21/100\n",
      "490102/490102 [==============================] - 8s 17us/step - loss: 0.8292 - val_loss: 0.8503\n",
      "Epoch 22/100\n",
      "490102/490102 [==============================] - 6s 13us/step - loss: 0.8288 - val_loss: 0.8505\n",
      "Epoch 23/100\n",
      "490102/490102 [==============================] - 6s 13us/step - loss: 0.8288 - val_loss: 0.8499\n",
      "Epoch 24/100\n",
      "490102/490102 [==============================] - 8s 17us/step - loss: 0.8284 - val_loss: 0.8497\n",
      "Epoch 25/100\n",
      "490102/490102 [==============================] - 11s 23us/step - loss: 0.8282 - val_loss: 0.8497\n",
      "Epoch 26/100\n",
      "490102/490102 [==============================] - 7s 13us/step - loss: 0.8278 - val_loss: 0.8497TA: 0s - l\n",
      "Epoch 27/100\n",
      "490102/490102 [==============================] - 5s 10us/step - loss: 0.8276 - val_loss: 0.8497\n",
      "Epoch 28/100\n",
      "490102/490102 [==============================] - 5s 11us/step - loss: 0.8269 - val_loss: 0.8490\n",
      "Epoch 29/100\n",
      "490102/490102 [==============================] - 6s 11us/step - loss: 0.8262 - val_loss: 0.8489\n",
      "Epoch 30/100\n",
      "490102/490102 [==============================] - 6s 12us/step - loss: 0.8256 - val_loss: 0.8488\n",
      "Epoch 31/100\n",
      "490102/490102 [==============================] - 5s 11us/step - loss: 0.8245 - val_loss: 0.8485\n",
      "Epoch 32/100\n",
      "490102/490102 [==============================] - 5s 11us/step - loss: 0.8235 - val_loss: 0.8478\n",
      "Epoch 33/100\n",
      "490102/490102 [==============================] - 5s 11us/step - loss: 0.8220 - val_loss: 0.8463\n",
      "Epoch 34/100\n",
      "490102/490102 [==============================] - 6s 12us/step - loss: 0.8198 - val_loss: 0.8456 ETA: 0s - loss: \n",
      "Epoch 35/100\n",
      "490102/490102 [==============================] - 5s 10us/step - loss: 0.8175 - val_loss: 0.8439\n",
      "Epoch 36/100\n",
      "490102/490102 [==============================] - 5s 11us/step - loss: 0.8146 - val_loss: 0.8426\n",
      "Epoch 37/100\n",
      "490102/490102 [==============================] - 6s 12us/step - loss: 0.8108 - val_loss: 0.8410 E\n",
      "Epoch 38/100\n",
      "490102/490102 [==============================] - 6s 13us/step - loss: 0.8066 - val_loss: 0.8375\n",
      "Epoch 39/100\n",
      "490102/490102 [==============================] - 6s 13us/step - loss: 0.8019 - val_loss: 0.8345\n",
      "Epoch 40/100\n",
      "490102/490102 [==============================] - 7s 14us/step - loss: 0.7964 - val_loss: 0.8316\n",
      "Epoch 41/100\n",
      "490102/490102 [==============================] - 10s 21us/step - loss: 0.7910 - val_loss: 0.8290\n",
      "Epoch 42/100\n",
      "490102/490102 [==============================] - 9s 19us/step - loss: 0.7855 - val_loss: 0.8260\n",
      "Epoch 43/100\n",
      "490102/490102 [==============================] - 11s 21us/step - loss: 0.7803 - val_loss: 0.8232\n",
      "Epoch 44/100\n",
      "490102/490102 [==============================] - 9s 18us/step - loss: 0.7754 - val_loss: 0.8206\n",
      "Epoch 45/100\n",
      "490102/490102 [==============================] - 6s 13us/step - loss: 0.7707 - val_loss: 0.8184\n",
      "Epoch 46/100\n",
      "490102/490102 [==============================] - 6s 13us/step - loss: 0.7665 - val_loss: 0.8166\n",
      "Epoch 47/100\n",
      "490102/490102 [==============================] - 7s 14us/step - loss: 0.7626 - val_loss: 0.8141\n",
      "Epoch 48/100\n",
      "490102/490102 [==============================] - 10s 20us/step - loss: 0.7591 - val_loss: 0.8135\n",
      "Epoch 49/100\n",
      "490102/490102 [==============================] - 11s 22us/step - loss: 0.7558 - val_loss: 0.8126\n",
      "Epoch 50/100\n",
      "490102/490102 [==============================] - 8s 17us/step - loss: 0.7529 - val_loss: 0.8106\n",
      "Epoch 51/100\n",
      "490102/490102 [==============================] - 6s 12us/step - loss: 0.7501 - val_loss: 0.8098\n",
      "Epoch 52/100\n",
      "490102/490102 [==============================] - 7s 15us/step - loss: 0.7478 - val_loss: 0.8086\n",
      "Epoch 53/100\n",
      "490102/490102 [==============================] - 7s 14us/step - loss: 0.7453 - val_loss: 0.8082\n",
      "Epoch 54/100\n",
      "490102/490102 [==============================] - 9s 17us/step - loss: 0.7433 - val_loss: 0.8071\n",
      "Epoch 55/100\n",
      "490102/490102 [==============================] - 7s 15us/step - loss: 0.7413 - val_loss: 0.8061\n",
      "Epoch 56/100\n",
      "490102/490102 [==============================] - 7s 14us/step - loss: 0.7395 - val_loss: 0.8058\n",
      "Epoch 57/100\n",
      "490102/490102 [==============================] - 7s 14us/step - loss: 0.7377 - val_loss: 0.8048\n",
      "Epoch 58/100\n",
      "490102/490102 [==============================] - 7s 13us/step - loss: 0.7362 - val_loss: 0.8044\n",
      "Epoch 59/100\n",
      "490102/490102 [==============================] - 7s 13us/step - loss: 0.7348 - val_loss: 0.8042\n",
      "Epoch 60/100\n",
      "490102/490102 [==============================] - 8s 16us/step - loss: 0.7335 - val_loss: 0.8033\n",
      "Epoch 61/100\n",
      "490102/490102 [==============================] - 9s 18us/step - loss: 0.7323 - val_loss: 0.8031\n",
      "Epoch 62/100\n",
      "490102/490102 [==============================] - 6s 13us/step - loss: 0.7311 - val_loss: 0.8023\n",
      "Epoch 63/100\n",
      "490102/490102 [==============================] - 7s 14us/step - loss: 0.7300 - val_loss: 0.8024\n",
      "Epoch 64/100\n",
      "490102/490102 [==============================] - 6s 12us/step - loss: 0.7290 - val_loss: 0.8021\n",
      "Epoch 65/100\n",
      "490102/490102 [==============================] - 7s 14us/step - loss: 0.7280 - val_loss: 0.8017\n",
      "Epoch 66/100\n",
      "490102/490102 [==============================] - 6s 12us/step - loss: 0.7271 - val_loss: 0.8017\n",
      "Epoch 67/100\n",
      "490102/490102 [==============================] - 5s 10us/step - loss: 0.7263 - val_loss: 0.8009s - loss:\n",
      "Epoch 68/100\n",
      "490102/490102 [==============================] - 5s 11us/step - loss: 0.7256 - val_loss: 0.8012\n",
      "Epoch 69/100\n",
      "490102/490102 [==============================] - 6s 12us/step - loss: 0.7248 - val_loss: 0.8006\n",
      "Epoch 70/100\n",
      "490102/490102 [==============================] - 6s 13us/step - loss: 0.7241 - val_loss: 0.8011\n",
      "Epoch 71/100\n",
      "490102/490102 [==============================] - 6s 12us/step - loss: 0.7236 - val_loss: 0.8007\n",
      "Epoch 72/100\n",
      "490102/490102 [==============================] - 6s 12us/step - loss: 0.7230 - val_loss: 0.8007\n",
      "Epoch 73/100\n",
      "490102/490102 [==============================] - 5s 10us/step - loss: 0.7226 - val_loss: 0.8010\n",
      "Epoch 74/100\n",
      "490102/490102 [==============================] - 5s 10us/step - loss: 0.7220 - val_loss: 0.8004\n",
      "Epoch 75/100\n"
     ]
    },
    {
     "name": "stdout",
     "output_type": "stream",
     "text": [
      "490102/490102 [==============================] - 5s 10us/step - loss: 0.7214 - val_loss: 0.8002 - los\n",
      "Epoch 76/100\n",
      "490102/490102 [==============================] - 5s 9us/step - loss: 0.7209 - val_loss: 0.8007\n",
      "Epoch 77/100\n",
      "490102/490102 [==============================] - 7s 14us/step - loss: 0.7206 - val_loss: 0.7994\n",
      "Epoch 78/100\n",
      "490102/490102 [==============================] - 7s 15us/step - loss: 0.7199 - val_loss: 0.7999\n",
      "Epoch 79/100\n",
      "490102/490102 [==============================] - 6s 13us/step - loss: 0.7197 - val_loss: 0.8003\n",
      "Epoch 80/100\n",
      "490102/490102 [==============================] - 6s 13us/step - loss: 0.7195 - val_loss: 0.8003\n",
      "Epoch 81/100\n",
      "490102/490102 [==============================] - 7s 15us/step - loss: 0.7190 - val_loss: 0.8000\n",
      "Epoch 82/100\n",
      "490102/490102 [==============================] - 7s 15us/step - loss: 0.7188 - val_loss: 0.7995\n",
      "Epoch 83/100\n",
      "490102/490102 [==============================] - 7s 15us/step - loss: 0.7184 - val_loss: 0.7996\n",
      "Epoch 84/100\n",
      "490102/490102 [==============================] - 9s 17us/step - loss: 0.7181 - val_loss: 0.7999\n",
      "Epoch 85/100\n",
      "490102/490102 [==============================] - 8s 17us/step - loss: 0.7178 - val_loss: 0.8002\n",
      "Epoch 86/100\n",
      "490102/490102 [==============================] - 11s 22us/step - loss: 0.7175 - val_loss: 0.7999\n",
      "Epoch 87/100\n",
      "490102/490102 [==============================] - 11s 21us/step - loss: 0.7173 - val_loss: 0.8002\n",
      "Epoch 88/100\n",
      "490102/490102 [==============================] - 9s 18us/step - loss: 0.7169 - val_loss: 0.8004\n",
      "Epoch 89/100\n",
      "490102/490102 [==============================] - 12s 24us/step - loss: 0.7169 - val_loss: 0.7997\n",
      "Epoch 90/100\n",
      "490102/490102 [==============================] - 10s 20us/step - loss: 0.7165 - val_loss: 0.7998\n",
      "Epoch 91/100\n",
      "490102/490102 [==============================] - 9s 19us/step - loss: 0.7164 - val_loss: 0.7999\n",
      "Epoch 92/100\n",
      "490102/490102 [==============================] - 12s 24us/step - loss: 0.7162 - val_loss: 0.8002\n",
      "Epoch 93/100\n",
      "490102/490102 [==============================] - 11s 22us/step - loss: 0.7160 - val_loss: 0.7998\n",
      "Epoch 94/100\n",
      "490102/490102 [==============================] - 11s 22us/step - loss: 0.7157 - val_loss: 0.8003\n",
      "Epoch 95/100\n",
      "490102/490102 [==============================] - 8s 17us/step - loss: 0.7156 - val_loss: 0.7999\n",
      "Epoch 96/100\n",
      "490102/490102 [==============================] - 8s 16us/step - loss: 0.7154 - val_loss: 0.7998\n",
      "Epoch 97/100\n",
      "490102/490102 [==============================] - 9s 18us/step - loss: 0.7152 - val_loss: 0.8006\n",
      "Epoch 98/100\n",
      "490102/490102 [==============================] - 8s 16us/step - loss: 0.7151 - val_loss: 0.8001\n",
      "Epoch 99/100\n",
      "490102/490102 [==============================] - 11s 23us/step - loss: 0.7149 - val_loss: 0.8007\n",
      "Epoch 100/100\n",
      "490102/490102 [==============================] - 9s 18us/step - loss: 0.7149 - val_loss: 0.8008\n"
     ]
    }
   ],
   "source": [
    "nnmf_history = model.fit(x=[train.user_id, train.item_id], \n",
    "                         y=train.rating,\n",
    "                         batch_size=128,\n",
    "                         validation_data=([valid.user_id, valid.item_id], valid.rating),\n",
    "                         epochs=100, \n",
    "                         verbose=1)"
   ]
  },
  {
   "cell_type": "code",
   "execution_count": 167,
   "metadata": {
    "ExecuteTime": {
     "end_time": "2018-12-08T12:13:41.267228Z",
     "start_time": "2018-12-08T12:13:41.199194Z"
    }
   },
   "outputs": [
    {
     "data": {
      "text/html": [
       "<div>\n",
       "<style scoped>\n",
       "    .dataframe tbody tr th:only-of-type {\n",
       "        vertical-align: middle;\n",
       "    }\n",
       "\n",
       "    .dataframe tbody tr th {\n",
       "        vertical-align: top;\n",
       "    }\n",
       "\n",
       "    .dataframe thead th {\n",
       "        text-align: right;\n",
       "    }\n",
       "</style>\n",
       "<table border=\"1\" class=\"dataframe\">\n",
       "  <thead>\n",
       "    <tr style=\"text-align: right;\">\n",
       "      <th></th>\n",
       "      <th>0</th>\n",
       "      <th>1</th>\n",
       "      <th>2</th>\n",
       "    </tr>\n",
       "  </thead>\n",
       "  <tbody>\n",
       "    <tr>\n",
       "      <th>count</th>\n",
       "      <td>3707.000000</td>\n",
       "      <td>3707.000000</td>\n",
       "      <td>3707.000000</td>\n",
       "    </tr>\n",
       "    <tr>\n",
       "      <th>mean</th>\n",
       "      <td>0.997210</td>\n",
       "      <td>1.037510</td>\n",
       "      <td>0.947827</td>\n",
       "    </tr>\n",
       "    <tr>\n",
       "      <th>std</th>\n",
       "      <td>0.599354</td>\n",
       "      <td>0.502234</td>\n",
       "      <td>0.501032</td>\n",
       "    </tr>\n",
       "    <tr>\n",
       "      <th>min</th>\n",
       "      <td>-0.000000</td>\n",
       "      <td>-0.000000</td>\n",
       "      <td>-0.000000</td>\n",
       "    </tr>\n",
       "    <tr>\n",
       "      <th>25%</th>\n",
       "      <td>0.529559</td>\n",
       "      <td>0.700475</td>\n",
       "      <td>0.594912</td>\n",
       "    </tr>\n",
       "    <tr>\n",
       "      <th>50%</th>\n",
       "      <td>1.013889</td>\n",
       "      <td>1.078306</td>\n",
       "      <td>0.960702</td>\n",
       "    </tr>\n",
       "    <tr>\n",
       "      <th>75%</th>\n",
       "      <td>1.455629</td>\n",
       "      <td>1.399302</td>\n",
       "      <td>1.296840</td>\n",
       "    </tr>\n",
       "    <tr>\n",
       "      <th>max</th>\n",
       "      <td>3.073178</td>\n",
       "      <td>3.101533</td>\n",
       "      <td>3.077158</td>\n",
       "    </tr>\n",
       "  </tbody>\n",
       "</table>\n",
       "</div>"
      ],
      "text/plain": [
       "                 0            1            2\n",
       "count  3707.000000  3707.000000  3707.000000\n",
       "mean      0.997210     1.037510     0.947827\n",
       "std       0.599354     0.502234     0.501032\n",
       "min      -0.000000    -0.000000    -0.000000\n",
       "25%       0.529559     0.700475     0.594912\n",
       "50%       1.013889     1.078306     0.960702\n",
       "75%       1.455629     1.399302     1.296840\n",
       "max       3.073178     3.101533     3.077158"
      ]
     },
     "execution_count": 167,
     "metadata": {},
     "output_type": "execute_result"
    }
   ],
   "source": [
    "movie_embedding_learnt = model.get_layer(name='NonNegMovie-Embedding').get_weights()[0]\n",
    "pd.DataFrame(movie_embedding_learnt).describe()"
   ]
  },
  {
   "cell_type": "markdown",
   "metadata": {},
   "source": [
    "## Neural networks for recommendation\n",
    "We'll now create a simple neural network for recommendation, or for estimating rating! This model is very similar to the earlier matrix factorisation models, but differs in the following ways:\n",
    "\n",
    "Instead of taking a dot product of the user and the item embedding, we concatenate them and use them as features for our neural network. Thus, we are not constrained to the dot product way of combining the embeddings, and can learn complex non-linear relationships.\n",
    "Due to #1, we can now have a different dimension of user and item embeddings. This can be useful if one dimension is larger than the other."
   ]
  },
  {
   "cell_type": "code",
   "execution_count": 168,
   "metadata": {
    "ExecuteTime": {
     "end_time": "2018-12-08T12:21:29.076532Z",
     "start_time": "2018-12-08T12:21:28.741037Z"
    }
   },
   "outputs": [],
   "source": [
    "n_latent_factors_user = 5\n",
    "n_latent_factors_movie = 8\n",
    "\n",
    "movie_input = keras.layers.Input(shape=[1],name='Item')\n",
    "movie_embedding = keras.layers.Embedding(n_movies + 1, n_latent_factors_movie, name='Movie-Embedding')(movie_input)\n",
    "movie_vec = keras.layers.Flatten(name='FlattenMovies')(movie_embedding)\n",
    "movie_vec = keras.layers.Dropout(0.2)(movie_vec)\n",
    "\n",
    "\n",
    "user_input = keras.layers.Input(shape=[1],name='User')\n",
    "user_vec = keras.layers.Flatten(name='FlattenUsers')(keras.layers.Embedding(n_users + 1, n_latent_factors_user,name='User-Embedding')(user_input))\n",
    "user_vec = keras.layers.Dropout(0.2)(user_vec)\n",
    "\n",
    "\n",
    "concat = keras.layers.merge.concatenate([movie_vec, user_vec], name='Concat')\n",
    "concat_dropout = keras.layers.Dropout(0.2)(concat)\n",
    "dense = keras.layers.Dense(200,name='FullyConnected')(concat)\n",
    "dropout_1 = keras.layers.Dropout(0.2,name='Dropout')(dense)\n",
    "dense_2 = keras.layers.Dense(100,name='FullyConnected-1')(concat)\n",
    "dropout_2 = keras.layers.Dropout(0.2,name='Dropout')(dense_2)\n",
    "dense_3 = keras.layers.Dense(50,name='FullyConnected-2')(dense_2)\n",
    "dropout_3 = keras.layers.Dropout(0.2,name='Dropout')(dense_3)\n",
    "dense_4 = keras.layers.Dense(20,name='FullyConnected-3', activation='relu')(dense_3)\n",
    "\n",
    "\n",
    "result = keras.layers.Dense(1, activation='relu',name='Activation')(dense_4)\n",
    "adam = Adam(lr=0.005)\n",
    "model = keras.Model([user_input, movie_input], result)\n",
    "model.compile(optimizer=adam,loss= 'mean_absolute_error')"
   ]
  },
  {
   "cell_type": "code",
   "execution_count": 169,
   "metadata": {
    "ExecuteTime": {
     "end_time": "2018-12-08T12:21:38.551305Z",
     "start_time": "2018-12-08T12:21:38.407273Z"
    }
   },
   "outputs": [
    {
     "data": {
      "image/svg+xml": [
       "<svg height=\"701pt\" viewBox=\"0.00 0.00 681.82 701.00\" width=\"682pt\" xmlns=\"http://www.w3.org/2000/svg\" xmlns:xlink=\"http://www.w3.org/1999/xlink\">\n",
       "<g class=\"graph\" id=\"graph0\" transform=\"scale(1 1) rotate(0) translate(4 697)\">\n",
       "<title>G</title>\n",
       "<polygon fill=\"#ffffff\" points=\"-4,4 -4,-697 677.8154,-697 677.8154,4 -4,4\" stroke=\"transparent\"/>\n",
       "<!-- 4836400600 -->\n",
       "<g class=\"node\" id=\"node1\">\n",
       "<title>4836400600</title>\n",
       "<polygon fill=\"none\" points=\"48.2275,-648.5 48.2275,-692.5 284.7832,-692.5 284.7832,-648.5 48.2275,-648.5\" stroke=\"#000000\"/>\n",
       "<text fill=\"#000000\" font-family=\"Times,serif\" font-size=\"14.00\" text-anchor=\"middle\" x=\"103.8467\" y=\"-666.3\">Item: InputLayer</text>\n",
       "<polyline fill=\"none\" points=\"159.4658,-648.5 159.4658,-692.5 \" stroke=\"#000000\"/>\n",
       "<text fill=\"#000000\" font-family=\"Times,serif\" font-size=\"14.00\" text-anchor=\"middle\" x=\"187.3003\" y=\"-677.3\">input:</text>\n",
       "<polyline fill=\"none\" points=\"159.4658,-670.5 215.1348,-670.5 \" stroke=\"#000000\"/>\n",
       "<text fill=\"#000000\" font-family=\"Times,serif\" font-size=\"14.00\" text-anchor=\"middle\" x=\"187.3003\" y=\"-655.3\">output:</text>\n",
       "<polyline fill=\"none\" points=\"215.1348,-648.5 215.1348,-692.5 \" stroke=\"#000000\"/>\n",
       "<text fill=\"#000000\" font-family=\"Times,serif\" font-size=\"14.00\" text-anchor=\"middle\" x=\"249.959\" y=\"-677.3\">(None, 1)</text>\n",
       "<polyline fill=\"none\" points=\"215.1348,-670.5 284.7832,-670.5 \" stroke=\"#000000\"/>\n",
       "<text fill=\"#000000\" font-family=\"Times,serif\" font-size=\"14.00\" text-anchor=\"middle\" x=\"249.959\" y=\"-655.3\">(None, 1)</text>\n",
       "</g>\n",
       "<!-- 4836400544 -->\n",
       "<g class=\"node\" id=\"node3\">\n",
       "<title>4836400544</title>\n",
       "<polygon fill=\"none\" points=\"0,-567.5 0,-611.5 333.0107,-611.5 333.0107,-567.5 0,-567.5\" stroke=\"#000000\"/>\n",
       "<text fill=\"#000000\" font-family=\"Times,serif\" font-size=\"14.00\" text-anchor=\"middle\" x=\"96.8467\" y=\"-585.3\">Movie-Embedding: Embedding</text>\n",
       "<polyline fill=\"none\" points=\"193.6934,-567.5 193.6934,-611.5 \" stroke=\"#000000\"/>\n",
       "<text fill=\"#000000\" font-family=\"Times,serif\" font-size=\"14.00\" text-anchor=\"middle\" x=\"221.5278\" y=\"-596.3\">input:</text>\n",
       "<polyline fill=\"none\" points=\"193.6934,-589.5 249.3623,-589.5 \" stroke=\"#000000\"/>\n",
       "<text fill=\"#000000\" font-family=\"Times,serif\" font-size=\"14.00\" text-anchor=\"middle\" x=\"221.5278\" y=\"-574.3\">output:</text>\n",
       "<polyline fill=\"none\" points=\"249.3623,-567.5 249.3623,-611.5 \" stroke=\"#000000\"/>\n",
       "<text fill=\"#000000\" font-family=\"Times,serif\" font-size=\"14.00\" text-anchor=\"middle\" x=\"291.1865\" y=\"-596.3\">(None, 1)</text>\n",
       "<polyline fill=\"none\" points=\"249.3623,-589.5 333.0107,-589.5 \" stroke=\"#000000\"/>\n",
       "<text fill=\"#000000\" font-family=\"Times,serif\" font-size=\"14.00\" text-anchor=\"middle\" x=\"291.1865\" y=\"-574.3\">(None, 1, 8)</text>\n",
       "</g>\n",
       "<!-- 4836400600&#45;&gt;4836400544 -->\n",
       "<g class=\"edge\" id=\"edge1\">\n",
       "<title>4836400600-&gt;4836400544</title>\n",
       "<path d=\"M166.5054,-648.3664C166.5054,-640.1516 166.5054,-630.6579 166.5054,-621.7252\" fill=\"none\" stroke=\"#000000\"/>\n",
       "<polygon fill=\"#000000\" points=\"170.0055,-621.6068 166.5054,-611.6068 163.0055,-621.6069 170.0055,-621.6068\" stroke=\"#000000\"/>\n",
       "</g>\n",
       "<!-- 4959398992 -->\n",
       "<g class=\"node\" id=\"node2\">\n",
       "<title>4959398992</title>\n",
       "<polygon fill=\"none\" points=\"393.8379,-648.5 393.8379,-692.5 631.1729,-692.5 631.1729,-648.5 393.8379,-648.5\" stroke=\"#000000\"/>\n",
       "<text fill=\"#000000\" font-family=\"Times,serif\" font-size=\"14.00\" text-anchor=\"middle\" x=\"449.8467\" y=\"-666.3\">User: InputLayer</text>\n",
       "<polyline fill=\"none\" points=\"505.8555,-648.5 505.8555,-692.5 \" stroke=\"#000000\"/>\n",
       "<text fill=\"#000000\" font-family=\"Times,serif\" font-size=\"14.00\" text-anchor=\"middle\" x=\"533.6899\" y=\"-677.3\">input:</text>\n",
       "<polyline fill=\"none\" points=\"505.8555,-670.5 561.5244,-670.5 \" stroke=\"#000000\"/>\n",
       "<text fill=\"#000000\" font-family=\"Times,serif\" font-size=\"14.00\" text-anchor=\"middle\" x=\"533.6899\" y=\"-655.3\">output:</text>\n",
       "<polyline fill=\"none\" points=\"561.5244,-648.5 561.5244,-692.5 \" stroke=\"#000000\"/>\n",
       "<text fill=\"#000000\" font-family=\"Times,serif\" font-size=\"14.00\" text-anchor=\"middle\" x=\"596.3486\" y=\"-677.3\">(None, 1)</text>\n",
       "<polyline fill=\"none\" points=\"561.5244,-670.5 631.1729,-670.5 \" stroke=\"#000000\"/>\n",
       "<text fill=\"#000000\" font-family=\"Times,serif\" font-size=\"14.00\" text-anchor=\"middle\" x=\"596.3486\" y=\"-655.3\">(None, 1)</text>\n",
       "</g>\n",
       "<!-- 4836398528 -->\n",
       "<g class=\"node\" id=\"node4\">\n",
       "<title>4836398528</title>\n",
       "<polygon fill=\"none\" points=\"351.1953,-567.5 351.1953,-611.5 673.8154,-611.5 673.8154,-567.5 351.1953,-567.5\" stroke=\"#000000\"/>\n",
       "<text fill=\"#000000\" font-family=\"Times,serif\" font-size=\"14.00\" text-anchor=\"middle\" x=\"442.8467\" y=\"-585.3\">User-Embedding: Embedding</text>\n",
       "<polyline fill=\"none\" points=\"534.498,-567.5 534.498,-611.5 \" stroke=\"#000000\"/>\n",
       "<text fill=\"#000000\" font-family=\"Times,serif\" font-size=\"14.00\" text-anchor=\"middle\" x=\"562.3325\" y=\"-596.3\">input:</text>\n",
       "<polyline fill=\"none\" points=\"534.498,-589.5 590.167,-589.5 \" stroke=\"#000000\"/>\n",
       "<text fill=\"#000000\" font-family=\"Times,serif\" font-size=\"14.00\" text-anchor=\"middle\" x=\"562.3325\" y=\"-574.3\">output:</text>\n",
       "<polyline fill=\"none\" points=\"590.167,-567.5 590.167,-611.5 \" stroke=\"#000000\"/>\n",
       "<text fill=\"#000000\" font-family=\"Times,serif\" font-size=\"14.00\" text-anchor=\"middle\" x=\"631.9912\" y=\"-596.3\">(None, 1)</text>\n",
       "<polyline fill=\"none\" points=\"590.167,-589.5 673.8154,-589.5 \" stroke=\"#000000\"/>\n",
       "<text fill=\"#000000\" font-family=\"Times,serif\" font-size=\"14.00\" text-anchor=\"middle\" x=\"631.9912\" y=\"-574.3\">(None, 1, 5)</text>\n",
       "</g>\n",
       "<!-- 4959398992&#45;&gt;4836398528 -->\n",
       "<g class=\"edge\" id=\"edge2\">\n",
       "<title>4959398992-&gt;4836398528</title>\n",
       "<path d=\"M512.5054,-648.3664C512.5054,-640.1516 512.5054,-630.6579 512.5054,-621.7252\" fill=\"none\" stroke=\"#000000\"/>\n",
       "<polygon fill=\"#000000\" points=\"516.0055,-621.6068 512.5054,-611.6068 509.0055,-621.6069 516.0055,-621.6068\" stroke=\"#000000\"/>\n",
       "</g>\n",
       "<!-- 4836397856 -->\n",
       "<g class=\"node\" id=\"node5\">\n",
       "<title>4836397856</title>\n",
       "<polygon fill=\"none\" points=\"50.269,-486.5 50.269,-530.5 332.7417,-530.5 332.7417,-486.5 50.269,-486.5\" stroke=\"#000000\"/>\n",
       "<text fill=\"#000000\" font-family=\"Times,serif\" font-size=\"14.00\" text-anchor=\"middle\" x=\"121.8467\" y=\"-504.3\">FlattenMovies: Flatten</text>\n",
       "<polyline fill=\"none\" points=\"193.4243,-486.5 193.4243,-530.5 \" stroke=\"#000000\"/>\n",
       "<text fill=\"#000000\" font-family=\"Times,serif\" font-size=\"14.00\" text-anchor=\"middle\" x=\"221.2588\" y=\"-515.3\">input:</text>\n",
       "<polyline fill=\"none\" points=\"193.4243,-508.5 249.0933,-508.5 \" stroke=\"#000000\"/>\n",
       "<text fill=\"#000000\" font-family=\"Times,serif\" font-size=\"14.00\" text-anchor=\"middle\" x=\"221.2588\" y=\"-493.3\">output:</text>\n",
       "<polyline fill=\"none\" points=\"249.0933,-486.5 249.0933,-530.5 \" stroke=\"#000000\"/>\n",
       "<text fill=\"#000000\" font-family=\"Times,serif\" font-size=\"14.00\" text-anchor=\"middle\" x=\"290.9175\" y=\"-515.3\">(None, 1, 8)</text>\n",
       "<polyline fill=\"none\" points=\"249.0933,-508.5 332.7417,-508.5 \" stroke=\"#000000\"/>\n",
       "<text fill=\"#000000\" font-family=\"Times,serif\" font-size=\"14.00\" text-anchor=\"middle\" x=\"290.9175\" y=\"-493.3\">(None, 8)</text>\n",
       "</g>\n",
       "<!-- 4836400544&#45;&gt;4836397856 -->\n",
       "<g class=\"edge\" id=\"edge3\">\n",
       "<title>4836400544-&gt;4836397856</title>\n",
       "<path d=\"M173.3367,-567.3664C175.8997,-559.0624 178.8661,-549.4514 181.6492,-540.4341\" fill=\"none\" stroke=\"#000000\"/>\n",
       "<polygon fill=\"#000000\" points=\"185.0774,-541.1943 184.6823,-530.6068 178.3887,-539.1299 185.0774,-541.1943\" stroke=\"#000000\"/>\n",
       "</g>\n",
       "<!-- 4959399664 -->\n",
       "<g class=\"node\" id=\"node6\">\n",
       "<title>4959399664</title>\n",
       "<polygon fill=\"none\" points=\"363.3276,-486.5 363.3276,-530.5 635.6831,-530.5 635.6831,-486.5 363.3276,-486.5\" stroke=\"#000000\"/>\n",
       "<text fill=\"#000000\" font-family=\"Times,serif\" font-size=\"14.00\" text-anchor=\"middle\" x=\"429.8467\" y=\"-504.3\">FlattenUsers: Flatten</text>\n",
       "<polyline fill=\"none\" points=\"496.3657,-486.5 496.3657,-530.5 \" stroke=\"#000000\"/>\n",
       "<text fill=\"#000000\" font-family=\"Times,serif\" font-size=\"14.00\" text-anchor=\"middle\" x=\"524.2002\" y=\"-515.3\">input:</text>\n",
       "<polyline fill=\"none\" points=\"496.3657,-508.5 552.0347,-508.5 \" stroke=\"#000000\"/>\n",
       "<text fill=\"#000000\" font-family=\"Times,serif\" font-size=\"14.00\" text-anchor=\"middle\" x=\"524.2002\" y=\"-493.3\">output:</text>\n",
       "<polyline fill=\"none\" points=\"552.0347,-486.5 552.0347,-530.5 \" stroke=\"#000000\"/>\n",
       "<text fill=\"#000000\" font-family=\"Times,serif\" font-size=\"14.00\" text-anchor=\"middle\" x=\"593.8589\" y=\"-515.3\">(None, 1, 5)</text>\n",
       "<polyline fill=\"none\" points=\"552.0347,-508.5 635.6831,-508.5 \" stroke=\"#000000\"/>\n",
       "<text fill=\"#000000\" font-family=\"Times,serif\" font-size=\"14.00\" text-anchor=\"middle\" x=\"593.8589\" y=\"-493.3\">(None, 5)</text>\n",
       "</g>\n",
       "<!-- 4836398528&#45;&gt;4959399664 -->\n",
       "<g class=\"edge\" id=\"edge4\">\n",
       "<title>4836398528-&gt;4959399664</title>\n",
       "<path d=\"M508.9531,-567.3664C507.6346,-559.1516 506.111,-549.6579 504.6773,-540.7252\" fill=\"none\" stroke=\"#000000\"/>\n",
       "<polygon fill=\"#000000\" points=\"508.0939,-539.9258 503.0534,-530.6068 501.1823,-541.0351 508.0939,-539.9258\" stroke=\"#000000\"/>\n",
       "</g>\n",
       "<!-- 4959334184 -->\n",
       "<g class=\"node\" id=\"node7\">\n",
       "<title>4959334184</title>\n",
       "<polygon fill=\"none\" points=\"77.0449,-405.5 77.0449,-449.5 329.9658,-449.5 329.9658,-405.5 77.0449,-405.5\" stroke=\"#000000\"/>\n",
       "<text fill=\"#000000\" font-family=\"Times,serif\" font-size=\"14.00\" text-anchor=\"middle\" x=\"140.8467\" y=\"-423.3\">dropout_1: Dropout</text>\n",
       "<polyline fill=\"none\" points=\"204.6484,-405.5 204.6484,-449.5 \" stroke=\"#000000\"/>\n",
       "<text fill=\"#000000\" font-family=\"Times,serif\" font-size=\"14.00\" text-anchor=\"middle\" x=\"232.4829\" y=\"-434.3\">input:</text>\n",
       "<polyline fill=\"none\" points=\"204.6484,-427.5 260.3174,-427.5 \" stroke=\"#000000\"/>\n",
       "<text fill=\"#000000\" font-family=\"Times,serif\" font-size=\"14.00\" text-anchor=\"middle\" x=\"232.4829\" y=\"-412.3\">output:</text>\n",
       "<polyline fill=\"none\" points=\"260.3174,-405.5 260.3174,-449.5 \" stroke=\"#000000\"/>\n",
       "<text fill=\"#000000\" font-family=\"Times,serif\" font-size=\"14.00\" text-anchor=\"middle\" x=\"295.1416\" y=\"-434.3\">(None, 8)</text>\n",
       "<polyline fill=\"none\" points=\"260.3174,-427.5 329.9658,-427.5 \" stroke=\"#000000\"/>\n",
       "<text fill=\"#000000\" font-family=\"Times,serif\" font-size=\"14.00\" text-anchor=\"middle\" x=\"295.1416\" y=\"-412.3\">(None, 8)</text>\n",
       "</g>\n",
       "<!-- 4836397856&#45;&gt;4959334184 -->\n",
       "<g class=\"edge\" id=\"edge5\">\n",
       "<title>4836397856-&gt;4959334184</title>\n",
       "<path d=\"M194.7844,-486.3664C196.0014,-478.1516 197.4079,-468.6579 198.7313,-459.7252\" fill=\"none\" stroke=\"#000000\"/>\n",
       "<polygon fill=\"#000000\" points=\"202.2269,-460.0118 200.2303,-449.6068 195.3025,-458.9859 202.2269,-460.0118\" stroke=\"#000000\"/>\n",
       "</g>\n",
       "<!-- 4836397688 -->\n",
       "<g class=\"node\" id=\"node8\">\n",
       "<title>4836397688</title>\n",
       "<polygon fill=\"none\" points=\"360.0449,-405.5 360.0449,-449.5 612.9658,-449.5 612.9658,-405.5 360.0449,-405.5\" stroke=\"#000000\"/>\n",
       "<text fill=\"#000000\" font-family=\"Times,serif\" font-size=\"14.00\" text-anchor=\"middle\" x=\"423.8467\" y=\"-423.3\">dropout_2: Dropout</text>\n",
       "<polyline fill=\"none\" points=\"487.6484,-405.5 487.6484,-449.5 \" stroke=\"#000000\"/>\n",
       "<text fill=\"#000000\" font-family=\"Times,serif\" font-size=\"14.00\" text-anchor=\"middle\" x=\"515.4829\" y=\"-434.3\">input:</text>\n",
       "<polyline fill=\"none\" points=\"487.6484,-427.5 543.3174,-427.5 \" stroke=\"#000000\"/>\n",
       "<text fill=\"#000000\" font-family=\"Times,serif\" font-size=\"14.00\" text-anchor=\"middle\" x=\"515.4829\" y=\"-412.3\">output:</text>\n",
       "<polyline fill=\"none\" points=\"543.3174,-405.5 543.3174,-449.5 \" stroke=\"#000000\"/>\n",
       "<text fill=\"#000000\" font-family=\"Times,serif\" font-size=\"14.00\" text-anchor=\"middle\" x=\"578.1416\" y=\"-434.3\">(None, 5)</text>\n",
       "<polyline fill=\"none\" points=\"543.3174,-427.5 612.9658,-427.5 \" stroke=\"#000000\"/>\n",
       "<text fill=\"#000000\" font-family=\"Times,serif\" font-size=\"14.00\" text-anchor=\"middle\" x=\"578.1416\" y=\"-412.3\">(None, 5)</text>\n",
       "</g>\n",
       "<!-- 4959399664&#45;&gt;4836397688 -->\n",
       "<g class=\"edge\" id=\"edge6\">\n",
       "<title>4959399664-&gt;4836397688</title>\n",
       "<path d=\"M495.9531,-486.3664C494.6346,-478.1516 493.111,-468.6579 491.6773,-459.7252\" fill=\"none\" stroke=\"#000000\"/>\n",
       "<polygon fill=\"#000000\" points=\"495.0939,-458.9258 490.0534,-449.6068 488.1823,-460.0351 495.0939,-458.9258\" stroke=\"#000000\"/>\n",
       "</g>\n",
       "<!-- 4836397744 -->\n",
       "<g class=\"node\" id=\"node9\">\n",
       "<title>4836397744</title>\n",
       "<polygon fill=\"none\" points=\"174.7446,-324.5 174.7446,-368.5 502.2661,-368.5 502.2661,-324.5 174.7446,-324.5\" stroke=\"#000000\"/>\n",
       "<text fill=\"#000000\" font-family=\"Times,serif\" font-size=\"14.00\" text-anchor=\"middle\" x=\"240.8604\" y=\"-342.3\">Concat: Concatenate</text>\n",
       "<polyline fill=\"none\" points=\"306.9761,-324.5 306.9761,-368.5 \" stroke=\"#000000\"/>\n",
       "<text fill=\"#000000\" font-family=\"Times,serif\" font-size=\"14.00\" text-anchor=\"middle\" x=\"334.8105\" y=\"-353.3\">input:</text>\n",
       "<polyline fill=\"none\" points=\"306.9761,-346.5 362.645,-346.5 \" stroke=\"#000000\"/>\n",
       "<text fill=\"#000000\" font-family=\"Times,serif\" font-size=\"14.00\" text-anchor=\"middle\" x=\"334.8105\" y=\"-331.3\">output:</text>\n",
       "<polyline fill=\"none\" points=\"362.645,-324.5 362.645,-368.5 \" stroke=\"#000000\"/>\n",
       "<text fill=\"#000000\" font-family=\"Times,serif\" font-size=\"14.00\" text-anchor=\"middle\" x=\"432.4556\" y=\"-353.3\">[(None, 8), (None, 5)]</text>\n",
       "<polyline fill=\"none\" points=\"362.645,-346.5 502.2661,-346.5 \" stroke=\"#000000\"/>\n",
       "<text fill=\"#000000\" font-family=\"Times,serif\" font-size=\"14.00\" text-anchor=\"middle\" x=\"431.9692\" y=\"-331.3\">(None, 13)</text>\n",
       "</g>\n",
       "<!-- 4959334184&#45;&gt;4836397744 -->\n",
       "<g class=\"edge\" id=\"edge7\">\n",
       "<title>4959334184-&gt;4836397744</title>\n",
       "<path d=\"M240.3947,-405.3664C256.6159,-395.6337 275.8292,-384.1057 292.9347,-373.8424\" fill=\"none\" stroke=\"#000000\"/>\n",
       "<polygon fill=\"#000000\" points=\"294.8864,-376.7531 301.6606,-368.6068 291.2849,-370.7506 294.8864,-376.7531\" stroke=\"#000000\"/>\n",
       "</g>\n",
       "<!-- 4836397688&#45;&gt;4836397744 -->\n",
       "<g class=\"edge\" id=\"edge8\">\n",
       "<title>4836397688-&gt;4836397744</title>\n",
       "<path d=\"M446.0637,-405.3664C428.0358,-395.4998 406.6366,-383.7881 387.6914,-373.4194\" fill=\"none\" stroke=\"#000000\"/>\n",
       "<polygon fill=\"#000000\" points=\"389.3506,-370.3376 378.8981,-368.6068 385.9899,-376.4781 389.3506,-370.3376\" stroke=\"#000000\"/>\n",
       "</g>\n",
       "<!-- 4958820672 -->\n",
       "<g class=\"node\" id=\"node10\">\n",
       "<title>4958820672</title>\n",
       "<polygon fill=\"none\" points=\"189.1104,-243.5 189.1104,-287.5 487.9004,-287.5 487.9004,-243.5 189.1104,-243.5\" stroke=\"#000000\"/>\n",
       "<text fill=\"#000000\" font-family=\"Times,serif\" font-size=\"14.00\" text-anchor=\"middle\" x=\"268.8467\" y=\"-261.3\">FullyConnected-1: Dense</text>\n",
       "<polyline fill=\"none\" points=\"348.583,-243.5 348.583,-287.5 \" stroke=\"#000000\"/>\n",
       "<text fill=\"#000000\" font-family=\"Times,serif\" font-size=\"14.00\" text-anchor=\"middle\" x=\"376.4175\" y=\"-272.3\">input:</text>\n",
       "<polyline fill=\"none\" points=\"348.583,-265.5 404.252,-265.5 \" stroke=\"#000000\"/>\n",
       "<text fill=\"#000000\" font-family=\"Times,serif\" font-size=\"14.00\" text-anchor=\"middle\" x=\"376.4175\" y=\"-250.3\">output:</text>\n",
       "<polyline fill=\"none\" points=\"404.252,-243.5 404.252,-287.5 \" stroke=\"#000000\"/>\n",
       "<text fill=\"#000000\" font-family=\"Times,serif\" font-size=\"14.00\" text-anchor=\"middle\" x=\"446.0762\" y=\"-272.3\">(None, 13)</text>\n",
       "<polyline fill=\"none\" points=\"404.252,-265.5 487.9004,-265.5 \" stroke=\"#000000\"/>\n",
       "<text fill=\"#000000\" font-family=\"Times,serif\" font-size=\"14.00\" text-anchor=\"middle\" x=\"446.0762\" y=\"-250.3\">(None, 100)</text>\n",
       "</g>\n",
       "<!-- 4836397744&#45;&gt;4958820672 -->\n",
       "<g class=\"edge\" id=\"edge9\">\n",
       "<title>4836397744-&gt;4958820672</title>\n",
       "<path d=\"M338.5054,-324.3664C338.5054,-316.1516 338.5054,-306.6579 338.5054,-297.7252\" fill=\"none\" stroke=\"#000000\"/>\n",
       "<polygon fill=\"#000000\" points=\"342.0055,-297.6068 338.5054,-287.6068 335.0055,-297.6069 342.0055,-297.6068\" stroke=\"#000000\"/>\n",
       "</g>\n",
       "<!-- 4959896800 -->\n",
       "<g class=\"node\" id=\"node11\">\n",
       "<title>4959896800</title>\n",
       "<polygon fill=\"none\" points=\"189.1104,-162.5 189.1104,-206.5 487.9004,-206.5 487.9004,-162.5 189.1104,-162.5\" stroke=\"#000000\"/>\n",
       "<text fill=\"#000000\" font-family=\"Times,serif\" font-size=\"14.00\" text-anchor=\"middle\" x=\"268.8467\" y=\"-180.3\">FullyConnected-2: Dense</text>\n",
       "<polyline fill=\"none\" points=\"348.583,-162.5 348.583,-206.5 \" stroke=\"#000000\"/>\n",
       "<text fill=\"#000000\" font-family=\"Times,serif\" font-size=\"14.00\" text-anchor=\"middle\" x=\"376.4175\" y=\"-191.3\">input:</text>\n",
       "<polyline fill=\"none\" points=\"348.583,-184.5 404.252,-184.5 \" stroke=\"#000000\"/>\n",
       "<text fill=\"#000000\" font-family=\"Times,serif\" font-size=\"14.00\" text-anchor=\"middle\" x=\"376.4175\" y=\"-169.3\">output:</text>\n",
       "<polyline fill=\"none\" points=\"404.252,-162.5 404.252,-206.5 \" stroke=\"#000000\"/>\n",
       "<text fill=\"#000000\" font-family=\"Times,serif\" font-size=\"14.00\" text-anchor=\"middle\" x=\"446.0762\" y=\"-191.3\">(None, 100)</text>\n",
       "<polyline fill=\"none\" points=\"404.252,-184.5 487.9004,-184.5 \" stroke=\"#000000\"/>\n",
       "<text fill=\"#000000\" font-family=\"Times,serif\" font-size=\"14.00\" text-anchor=\"middle\" x=\"446.0762\" y=\"-169.3\">(None, 50)</text>\n",
       "</g>\n",
       "<!-- 4958820672&#45;&gt;4959896800 -->\n",
       "<g class=\"edge\" id=\"edge10\">\n",
       "<title>4958820672-&gt;4959896800</title>\n",
       "<path d=\"M338.5054,-243.3664C338.5054,-235.1516 338.5054,-225.6579 338.5054,-216.7252\" fill=\"none\" stroke=\"#000000\"/>\n",
       "<polygon fill=\"#000000\" points=\"342.0055,-216.6068 338.5054,-206.6068 335.0055,-216.6069 342.0055,-216.6068\" stroke=\"#000000\"/>\n",
       "</g>\n",
       "<!-- 4960148168 -->\n",
       "<g class=\"node\" id=\"node12\">\n",
       "<title>4960148168</title>\n",
       "<polygon fill=\"none\" points=\"192.6104,-81.5 192.6104,-125.5 484.4004,-125.5 484.4004,-81.5 192.6104,-81.5\" stroke=\"#000000\"/>\n",
       "<text fill=\"#000000\" font-family=\"Times,serif\" font-size=\"14.00\" text-anchor=\"middle\" x=\"272.3467\" y=\"-99.3\">FullyConnected-3: Dense</text>\n",
       "<polyline fill=\"none\" points=\"352.083,-81.5 352.083,-125.5 \" stroke=\"#000000\"/>\n",
       "<text fill=\"#000000\" font-family=\"Times,serif\" font-size=\"14.00\" text-anchor=\"middle\" x=\"379.9175\" y=\"-110.3\">input:</text>\n",
       "<polyline fill=\"none\" points=\"352.083,-103.5 407.752,-103.5 \" stroke=\"#000000\"/>\n",
       "<text fill=\"#000000\" font-family=\"Times,serif\" font-size=\"14.00\" text-anchor=\"middle\" x=\"379.9175\" y=\"-88.3\">output:</text>\n",
       "<polyline fill=\"none\" points=\"407.752,-81.5 407.752,-125.5 \" stroke=\"#000000\"/>\n",
       "<text fill=\"#000000\" font-family=\"Times,serif\" font-size=\"14.00\" text-anchor=\"middle\" x=\"446.0762\" y=\"-110.3\">(None, 50)</text>\n",
       "<polyline fill=\"none\" points=\"407.752,-103.5 484.4004,-103.5 \" stroke=\"#000000\"/>\n",
       "<text fill=\"#000000\" font-family=\"Times,serif\" font-size=\"14.00\" text-anchor=\"middle\" x=\"446.0762\" y=\"-88.3\">(None, 20)</text>\n",
       "</g>\n",
       "<!-- 4959896800&#45;&gt;4960148168 -->\n",
       "<g class=\"edge\" id=\"edge11\">\n",
       "<title>4959896800-&gt;4960148168</title>\n",
       "<path d=\"M338.5054,-162.3664C338.5054,-154.1516 338.5054,-144.6579 338.5054,-135.7252\" fill=\"none\" stroke=\"#000000\"/>\n",
       "<polygon fill=\"#000000\" points=\"342.0055,-135.6068 338.5054,-125.6068 335.0055,-135.6069 342.0055,-135.6068\" stroke=\"#000000\"/>\n",
       "</g>\n",
       "<!-- 4960148280 -->\n",
       "<g class=\"node\" id=\"node13\">\n",
       "<title>4960148280</title>\n",
       "<polygon fill=\"none\" points=\"213.6104,-.5 213.6104,-44.5 463.4004,-44.5 463.4004,-.5 213.6104,-.5\" stroke=\"#000000\"/>\n",
       "<text fill=\"#000000\" font-family=\"Times,serif\" font-size=\"14.00\" text-anchor=\"middle\" x=\"272.3467\" y=\"-18.3\">Activation: Dense</text>\n",
       "<polyline fill=\"none\" points=\"331.083,-.5 331.083,-44.5 \" stroke=\"#000000\"/>\n",
       "<text fill=\"#000000\" font-family=\"Times,serif\" font-size=\"14.00\" text-anchor=\"middle\" x=\"358.9175\" y=\"-29.3\">input:</text>\n",
       "<polyline fill=\"none\" points=\"331.083,-22.5 386.752,-22.5 \" stroke=\"#000000\"/>\n",
       "<text fill=\"#000000\" font-family=\"Times,serif\" font-size=\"14.00\" text-anchor=\"middle\" x=\"358.9175\" y=\"-7.3\">output:</text>\n",
       "<polyline fill=\"none\" points=\"386.752,-.5 386.752,-44.5 \" stroke=\"#000000\"/>\n",
       "<text fill=\"#000000\" font-family=\"Times,serif\" font-size=\"14.00\" text-anchor=\"middle\" x=\"425.0762\" y=\"-29.3\">(None, 20)</text>\n",
       "<polyline fill=\"none\" points=\"386.752,-22.5 463.4004,-22.5 \" stroke=\"#000000\"/>\n",
       "<text fill=\"#000000\" font-family=\"Times,serif\" font-size=\"14.00\" text-anchor=\"middle\" x=\"425.0762\" y=\"-7.3\">(None, 1)</text>\n",
       "</g>\n",
       "<!-- 4960148168&#45;&gt;4960148280 -->\n",
       "<g class=\"edge\" id=\"edge12\">\n",
       "<title>4960148168-&gt;4960148280</title>\n",
       "<path d=\"M338.5054,-81.3664C338.5054,-73.1516 338.5054,-63.6579 338.5054,-54.7252\" fill=\"none\" stroke=\"#000000\"/>\n",
       "<polygon fill=\"#000000\" points=\"342.0055,-54.6068 338.5054,-44.6068 335.0055,-54.6069 342.0055,-54.6068\" stroke=\"#000000\"/>\n",
       "</g>\n",
       "</g>\n",
       "</svg>"
      ],
      "text/plain": [
       "<IPython.core.display.SVG object>"
      ]
     },
     "execution_count": 169,
     "metadata": {},
     "output_type": "execute_result"
    }
   ],
   "source": [
    "SVG(model_to_dot(model,  show_shapes=True, show_layer_names=True, rankdir='HB').create(prog='dot', format='svg'))"
   ]
  },
  {
   "cell_type": "code",
   "execution_count": 170,
   "metadata": {
    "ExecuteTime": {
     "end_time": "2018-12-08T12:22:24.527780Z",
     "start_time": "2018-12-08T12:22:24.516117Z"
    }
   },
   "outputs": [
    {
     "name": "stdout",
     "output_type": "stream",
     "text": [
      "__________________________________________________________________________________________________\n",
      "Layer (type)                    Output Shape         Param #     Connected to                     \n",
      "==================================================================================================\n",
      "Item (InputLayer)               (None, 1)            0                                            \n",
      "__________________________________________________________________________________________________\n",
      "User (InputLayer)               (None, 1)            0                                            \n",
      "__________________________________________________________________________________________________\n",
      "Movie-Embedding (Embedding)     (None, 1, 8)         29656       Item[0][0]                       \n",
      "__________________________________________________________________________________________________\n",
      "User-Embedding (Embedding)      (None, 1, 5)         30205       User[0][0]                       \n",
      "__________________________________________________________________________________________________\n",
      "FlattenMovies (Flatten)         (None, 8)            0           Movie-Embedding[0][0]            \n",
      "__________________________________________________________________________________________________\n",
      "FlattenUsers (Flatten)          (None, 5)            0           User-Embedding[0][0]             \n",
      "__________________________________________________________________________________________________\n",
      "dropout_1 (Dropout)             (None, 8)            0           FlattenMovies[0][0]              \n",
      "__________________________________________________________________________________________________\n",
      "dropout_2 (Dropout)             (None, 5)            0           FlattenUsers[0][0]               \n",
      "__________________________________________________________________________________________________\n",
      "Concat (Concatenate)            (None, 13)           0           dropout_1[0][0]                  \n",
      "                                                                 dropout_2[0][0]                  \n",
      "__________________________________________________________________________________________________\n",
      "FullyConnected-1 (Dense)        (None, 100)          1400        Concat[0][0]                     \n",
      "__________________________________________________________________________________________________\n",
      "FullyConnected-2 (Dense)        (None, 50)           5050        FullyConnected-1[0][0]           \n",
      "__________________________________________________________________________________________________\n",
      "FullyConnected-3 (Dense)        (None, 20)           1020        FullyConnected-2[0][0]           \n",
      "__________________________________________________________________________________________________\n",
      "Activation (Dense)              (None, 1)            21          FullyConnected-3[0][0]           \n",
      "==================================================================================================\n",
      "Total params: 67,352\n",
      "Trainable params: 67,352\n",
      "Non-trainable params: 0\n",
      "__________________________________________________________________________________________________\n"
     ]
    }
   ],
   "source": [
    "model.summary()"
   ]
  },
  {
   "cell_type": "markdown",
   "metadata": {},
   "source": [
    "We can see that the number of parameters is more than what we had in the Matrix Factorisation case. Let's see how this model works. I'll run it for more epochs given that we have more parameters."
   ]
  },
  {
   "cell_type": "code",
   "execution_count": 171,
   "metadata": {
    "ExecuteTime": {
     "end_time": "2018-12-08T12:43:38.301107Z",
     "start_time": "2018-12-08T12:23:06.912396Z"
    }
   },
   "outputs": [
    {
     "name": "stdout",
     "output_type": "stream",
     "text": [
      "Train on 490102 samples, validate on 210044 samples\n",
      "Epoch 1/100\n",
      "490102/490102 [==============================] - 15s 30us/step - loss: 0.7708 - val_loss: 0.7269\n",
      "Epoch 2/100\n",
      "490102/490102 [==============================] - 14s 28us/step - loss: 0.7248 - val_loss: 0.7161\n",
      "Epoch 3/100\n",
      "490102/490102 [==============================] - 14s 29us/step - loss: 0.7117 - val_loss: 0.7090\n",
      "Epoch 4/100\n",
      "490102/490102 [==============================] - 16s 33us/step - loss: 0.7060 - val_loss: 0.7128\n",
      "Epoch 5/100\n",
      "490102/490102 [==============================] - 15s 30us/step - loss: 0.7008 - val_loss: 0.7081\n",
      "Epoch 6/100\n",
      "490102/490102 [==============================] - 14s 29us/step - loss: 0.6946 - val_loss: 0.6993\n",
      "Epoch 7/100\n",
      "490102/490102 [==============================] - 14s 29us/step - loss: 0.6886 - val_loss: 0.6958\n",
      "Epoch 8/100\n",
      "490102/490102 [==============================] - 16s 32us/step - loss: 0.6865 - val_loss: 0.6948\n",
      "Epoch 9/100\n",
      "490102/490102 [==============================] - 16s 33us/step - loss: 0.6837 - val_loss: 0.7011\n",
      "Epoch 10/100\n",
      "490102/490102 [==============================] - 16s 33us/step - loss: 0.6826 - val_loss: 0.6910\n",
      "Epoch 11/100\n",
      "490102/490102 [==============================] - 15s 31us/step - loss: 0.6812 - val_loss: 0.6901\n",
      "Epoch 12/100\n",
      "490102/490102 [==============================] - 9s 19us/step - loss: 0.6798 - val_loss: 0.6859\n",
      "Epoch 13/100\n",
      "490102/490102 [==============================] - 11s 22us/step - loss: 0.6784 - val_loss: 0.6870\n",
      "Epoch 14/100\n",
      "490102/490102 [==============================] - 10s 20us/step - loss: 0.6765 - val_loss: 0.6897\n",
      "Epoch 15/100\n",
      "490102/490102 [==============================] - 9s 19us/step - loss: 0.6762 - val_loss: 0.6864\n",
      "Epoch 16/100\n",
      "490102/490102 [==============================] - 9s 19us/step - loss: 0.6749 - val_loss: 0.6894\n",
      "Epoch 17/100\n",
      "490102/490102 [==============================] - 9s 19us/step - loss: 0.6745 - val_loss: 0.6947-\n",
      "Epoch 18/100\n",
      "490102/490102 [==============================] - 11s 22us/step - loss: 0.6736 - val_loss: 0.6875\n",
      "Epoch 19/100\n",
      "490102/490102 [==============================] - 15s 30us/step - loss: 0.6724 - val_loss: 0.6848\n",
      "Epoch 20/100\n",
      "490102/490102 [==============================] - 15s 30us/step - loss: 0.6715 - val_loss: 0.6839\n",
      "Epoch 21/100\n",
      "490102/490102 [==============================] - 15s 31us/step - loss: 0.6704 - val_loss: 0.6825\n",
      "Epoch 22/100\n",
      "490102/490102 [==============================] - 17s 34us/step - loss: 0.6694 - val_loss: 0.6847\n",
      "Epoch 23/100\n",
      "490102/490102 [==============================] - 15s 30us/step - loss: 0.6683 - val_loss: 0.6890\n",
      "Epoch 24/100\n",
      "490102/490102 [==============================] - 15s 31us/step - loss: 0.6673 - val_loss: 0.6799\n",
      "Epoch 25/100\n",
      "490102/490102 [==============================] - 17s 35us/step - loss: 0.6657 - val_loss: 0.6865\n",
      "Epoch 26/100\n",
      "490102/490102 [==============================] - 17s 35us/step - loss: 0.6651 - val_loss: 0.6777\n",
      "Epoch 27/100\n",
      "490102/490102 [==============================] - 15s 32us/step - loss: 0.6642 - val_loss: 0.6781\n",
      "Epoch 28/100\n",
      "490102/490102 [==============================] - 16s 32us/step - loss: 0.6641 - val_loss: 0.6861\n",
      "Epoch 29/100\n",
      "490102/490102 [==============================] - 15s 31us/step - loss: 0.6628 - val_loss: 0.6765\n",
      "Epoch 30/100\n",
      "490102/490102 [==============================] - 15s 30us/step - loss: 0.6621 - val_loss: 0.6804\n",
      "Epoch 31/100\n",
      "490102/490102 [==============================] - 16s 32us/step - loss: 0.6624 - val_loss: 0.6792\n",
      "Epoch 32/100\n",
      "490102/490102 [==============================] - 15s 31us/step - loss: 0.6624 - val_loss: 0.6784\n",
      "Epoch 33/100\n",
      "490102/490102 [==============================] - 15s 31us/step - loss: 0.6613 - val_loss: 0.6862\n",
      "Epoch 34/100\n",
      "490102/490102 [==============================] - 15s 31us/step - loss: 0.6616 - val_loss: 0.6815\n",
      "Epoch 35/100\n",
      "490102/490102 [==============================] - 12s 25us/step - loss: 0.6605 - val_loss: 0.6821\n",
      "Epoch 36/100\n",
      "490102/490102 [==============================] - 10s 21us/step - loss: 0.6589 - val_loss: 0.6779\n",
      "Epoch 37/100\n",
      "490102/490102 [==============================] - 11s 23us/step - loss: 0.6597 - val_loss: 0.6760\n",
      "Epoch 38/100\n",
      "490102/490102 [==============================] - 11s 22us/step - loss: 0.6596 - val_loss: 0.6905\n",
      "Epoch 39/100\n",
      "490102/490102 [==============================] - 10s 20us/step - loss: 0.6589 - val_loss: 0.6775\n",
      "Epoch 40/100\n",
      "490102/490102 [==============================] - 10s 20us/step - loss: 0.6589 - val_loss: 0.6809lo\n",
      "Epoch 41/100\n",
      "490102/490102 [==============================] - 11s 22us/step - loss: 0.6581 - val_loss: 0.6775\n",
      "Epoch 42/100\n",
      "490102/490102 [==============================] - 11s 22us/step - loss: 0.6587 - val_loss: 0.6814\n",
      "Epoch 43/100\n",
      "490102/490102 [==============================] - 15s 32us/step - loss: 0.6579 - val_loss: 0.6782\n",
      "Epoch 44/100\n",
      "490102/490102 [==============================] - 15s 31us/step - loss: 0.6578 - val_loss: 0.6815\n",
      "Epoch 45/100\n",
      "490102/490102 [==============================] - 15s 30us/step - loss: 0.6580 - val_loss: 0.6859\n",
      "Epoch 46/100\n",
      "490102/490102 [==============================] - 15s 30us/step - loss: 0.6574 - val_loss: 0.6757\n",
      "Epoch 47/100\n",
      "490102/490102 [==============================] - 15s 31us/step - loss: 0.6572 - val_loss: 0.6768\n",
      "Epoch 48/100\n",
      "490102/490102 [==============================] - 15s 30us/step - loss: 0.6568 - val_loss: 0.6793\n",
      "Epoch 49/100\n",
      "490102/490102 [==============================] - 15s 30us/step - loss: 0.6572 - val_loss: 0.6840\n",
      "Epoch 50/100\n",
      "490102/490102 [==============================] - 15s 30us/step - loss: 0.6562 - val_loss: 0.6915\n",
      "Epoch 51/100\n",
      "490102/490102 [==============================] - 16s 32us/step - loss: 0.6565 - val_loss: 0.6793\n",
      "Epoch 52/100\n",
      "490102/490102 [==============================] - 15s 31us/step - loss: 0.6556 - val_loss: 0.6803\n",
      "Epoch 53/100\n",
      "490102/490102 [==============================] - 15s 31us/step - loss: 0.6562 - val_loss: 0.6839\n",
      "Epoch 54/100\n",
      "490102/490102 [==============================] - 15s 31us/step - loss: 0.6556 - val_loss: 0.6785\n",
      "Epoch 55/100\n",
      "490102/490102 [==============================] - 15s 30us/step - loss: 0.6566 - val_loss: 0.6807\n",
      "Epoch 56/100\n",
      "490102/490102 [==============================] - 15s 31us/step - loss: 0.6557 - val_loss: 0.6763\n",
      "Epoch 57/100\n",
      "490102/490102 [==============================] - 15s 31us/step - loss: 0.6545 - val_loss: 0.6779\n",
      "Epoch 58/100\n",
      "490102/490102 [==============================] - 16s 32us/step - loss: 0.6548 - val_loss: 0.6795\n",
      "Epoch 59/100\n",
      "490102/490102 [==============================] - 13s 27us/step - loss: 0.6547 - val_loss: 0.6802\n",
      "Epoch 60/100\n",
      "490102/490102 [==============================] - 10s 21us/step - loss: 0.6550 - val_loss: 0.6758\n",
      "Epoch 61/100\n",
      "490102/490102 [==============================] - 10s 21us/step - loss: 0.6542 - val_loss: 0.6736\n",
      "Epoch 62/100\n",
      "490102/490102 [==============================] - 10s 21us/step - loss: 0.6540 - val_loss: 0.6798\n",
      "Epoch 63/100\n",
      "490102/490102 [==============================] - 10s 21us/step - loss: 0.6548 - val_loss: 0.6760os\n",
      "Epoch 64/100\n",
      "490102/490102 [==============================] - 10s 20us/step - loss: 0.6538 - val_loss: 0.6764\n",
      "Epoch 65/100\n",
      "490102/490102 [==============================] - 8s 17us/step - loss: 0.6545 - val_loss: 0.6824\n",
      "Epoch 66/100\n",
      "490102/490102 [==============================] - 8s 17us/step - loss: 0.6539 - val_loss: 0.6752\n",
      "Epoch 67/100\n",
      "490102/490102 [==============================] - 9s 18us/step - loss: 0.6539 - val_loss: 0.6774\n",
      "Epoch 68/100\n",
      "490102/490102 [==============================] - 10s 21us/step - loss: 0.6539 - val_loss: 0.6778\n",
      "Epoch 69/100\n",
      "490102/490102 [==============================] - 10s 21us/step - loss: 0.6536 - val_loss: 0.6799\n",
      "Epoch 70/100\n",
      "490102/490102 [==============================] - 10s 21us/step - loss: 0.6534 - val_loss: 0.6848\n",
      "Epoch 71/100\n",
      "490102/490102 [==============================] - 10s 21us/step - loss: 0.6536 - val_loss: 0.6800\n",
      "Epoch 72/100\n",
      "490102/490102 [==============================] - 11s 22us/step - loss: 0.6541 - val_loss: 0.6814\n",
      "Epoch 73/100\n",
      "490102/490102 [==============================] - 11s 23us/step - loss: 0.6531 - val_loss: 0.6807\n",
      "Epoch 74/100\n",
      "490102/490102 [==============================] - 10s 21us/step - loss: 0.6530 - val_loss: 0.6835\n",
      "Epoch 75/100\n"
     ]
    },
    {
     "name": "stdout",
     "output_type": "stream",
     "text": [
      "490102/490102 [==============================] - 9s 19us/step - loss: 0.6543 - val_loss: 0.6749\n",
      "Epoch 76/100\n",
      "490102/490102 [==============================] - 9s 19us/step - loss: 0.6532 - val_loss: 0.6771\n",
      "Epoch 77/100\n",
      "490102/490102 [==============================] - 10s 20us/step - loss: 0.6532 - val_loss: 0.6744\n",
      "Epoch 78/100\n",
      "490102/490102 [==============================] - 10s 21us/step - loss: 0.6534 - val_loss: 0.6843\n",
      "Epoch 79/100\n",
      "490102/490102 [==============================] - 10s 20us/step - loss: 0.6533 - val_loss: 0.6731\n",
      "Epoch 80/100\n",
      "490102/490102 [==============================] - 10s 20us/step - loss: 0.6531 - val_loss: 0.6752\n",
      "Epoch 81/100\n",
      "490102/490102 [==============================] - 9s 19us/step - loss: 0.6524 - val_loss: 0.6771\n",
      "Epoch 82/100\n",
      "490102/490102 [==============================] - 9s 18us/step - loss: 0.6529 - val_loss: 0.6797\n",
      "Epoch 83/100\n",
      "490102/490102 [==============================] - 9s 19us/step - loss: 0.6526 - val_loss: 0.6785\n",
      "Epoch 84/100\n",
      "490102/490102 [==============================] - 9s 19us/step - loss: 0.6528 - val_loss: 0.6787\n",
      "Epoch 85/100\n",
      "490102/490102 [==============================] - 9s 19us/step - loss: 0.6524 - val_loss: 0.6742\n",
      "Epoch 86/100\n",
      "490102/490102 [==============================] - 9s 19us/step - loss: 0.6529 - val_loss: 0.6858\n",
      "Epoch 87/100\n",
      "490102/490102 [==============================] - 10s 20us/step - loss: 0.6519 - val_loss: 0.6868\n",
      "Epoch 88/100\n",
      "490102/490102 [==============================] - 9s 19us/step - loss: 0.6524 - val_loss: 0.6901\n",
      "Epoch 89/100\n",
      "490102/490102 [==============================] - 11s 22us/step - loss: 0.6526 - val_loss: 0.6765\n",
      "Epoch 90/100\n",
      "490102/490102 [==============================] - 10s 19us/step - loss: 0.6530 - val_loss: 0.6752\n",
      "Epoch 91/100\n",
      "490102/490102 [==============================] - 10s 20us/step - loss: 0.6522 - val_loss: 0.6739\n",
      "Epoch 92/100\n",
      "490102/490102 [==============================] - 11s 22us/step - loss: 0.6527 - val_loss: 0.6772\n",
      "Epoch 93/100\n",
      "490102/490102 [==============================] - 11s 22us/step - loss: 0.6525 - val_loss: 0.6749\n",
      "Epoch 94/100\n",
      "490102/490102 [==============================] - 11s 22us/step - loss: 0.6526 - val_loss: 0.6749\n",
      "Epoch 95/100\n",
      "490102/490102 [==============================] - 10s 21us/step - loss: 0.6534 - val_loss: 0.6732\n",
      "Epoch 96/100\n",
      "490102/490102 [==============================] - 10s 21us/step - loss: 0.6518 - val_loss: 0.6777\n",
      "Epoch 97/100\n",
      "490102/490102 [==============================] - 11s 22us/step - loss: 0.6519 - val_loss: 0.6831\n",
      "Epoch 98/100\n",
      "490102/490102 [==============================] - 10s 21us/step - loss: 0.6519 - val_loss: 0.6746\n",
      "Epoch 99/100\n",
      "490102/490102 [==============================] - 11s 23us/step - loss: 0.6514 - val_loss: 0.6733\n",
      "Epoch 100/100\n",
      "490102/490102 [==============================] - 10s 20us/step - loss: 0.6527 - val_loss: 0.6805\n"
     ]
    }
   ],
   "source": [
    "dnn_history = model.fit(\n",
    "    x=[train.user_id, train.item_id],\n",
    "    y=train.rating,\n",
    "    batch_size=128,\n",
    "    validation_data=([valid.user_id, valid.item_id], valid.rating),\n",
    "    epochs=100,\n",
    "    verbose=1)"
   ]
  },
  {
   "cell_type": "code",
   "execution_count": 172,
   "metadata": {
    "ExecuteTime": {
     "end_time": "2018-12-08T12:43:57.547642Z",
     "start_time": "2018-12-08T12:43:49.071818Z"
    }
   },
   "outputs": [
    {
     "name": "stdout",
     "output_type": "stream",
     "text": [
      "0.6744183721418502\n",
      "0.682258767114016\n"
     ]
    }
   ],
   "source": [
    "y_hat_dnn = np.round(model.predict([test.user_id, test.item_id]), 0)\n",
    "print(mean_absolute_error(y_true, y_hat_dnn))\n",
    "print(mean_absolute_error(y_true, model.predict([test.user_id, test.item_id])))"
   ]
  },
  {
   "cell_type": "code",
   "execution_count": 175,
   "metadata": {
    "ExecuteTime": {
     "end_time": "2018-12-08T12:45:54.817042Z",
     "start_time": "2018-12-08T12:45:54.772708Z"
    }
   },
   "outputs": [
    {
     "data": {
      "text/html": [
       "<div>\n",
       "<style scoped>\n",
       "    .dataframe tbody tr th:only-of-type {\n",
       "        vertical-align: middle;\n",
       "    }\n",
       "\n",
       "    .dataframe tbody tr th {\n",
       "        vertical-align: top;\n",
       "    }\n",
       "\n",
       "    .dataframe thead th {\n",
       "        text-align: right;\n",
       "    }\n",
       "</style>\n",
       "<table border=\"1\" class=\"dataframe\">\n",
       "  <thead>\n",
       "    <tr style=\"text-align: right;\">\n",
       "      <th></th>\n",
       "      <th>0</th>\n",
       "      <th>1</th>\n",
       "      <th>2</th>\n",
       "      <th>3</th>\n",
       "      <th>4</th>\n",
       "      <th>5</th>\n",
       "      <th>6</th>\n",
       "      <th>7</th>\n",
       "    </tr>\n",
       "  </thead>\n",
       "  <tbody>\n",
       "    <tr>\n",
       "      <th>count</th>\n",
       "      <td>3707.000000</td>\n",
       "      <td>3707.000000</td>\n",
       "      <td>3707.000000</td>\n",
       "      <td>3707.000000</td>\n",
       "      <td>3707.000000</td>\n",
       "      <td>3707.000000</td>\n",
       "      <td>3707.000000</td>\n",
       "      <td>3707.000000</td>\n",
       "    </tr>\n",
       "    <tr>\n",
       "      <th>mean</th>\n",
       "      <td>-0.732966</td>\n",
       "      <td>0.292757</td>\n",
       "      <td>-0.622670</td>\n",
       "      <td>-0.604828</td>\n",
       "      <td>0.734461</td>\n",
       "      <td>-0.710163</td>\n",
       "      <td>0.585169</td>\n",
       "      <td>-0.685320</td>\n",
       "    </tr>\n",
       "    <tr>\n",
       "      <th>std</th>\n",
       "      <td>2.361790</td>\n",
       "      <td>2.550282</td>\n",
       "      <td>2.303044</td>\n",
       "      <td>2.323357</td>\n",
       "      <td>2.374515</td>\n",
       "      <td>2.340138</td>\n",
       "      <td>2.287444</td>\n",
       "      <td>2.325213</td>\n",
       "    </tr>\n",
       "    <tr>\n",
       "      <th>min</th>\n",
       "      <td>-9.655300</td>\n",
       "      <td>-9.267989</td>\n",
       "      <td>-9.468780</td>\n",
       "      <td>-10.176050</td>\n",
       "      <td>-6.388413</td>\n",
       "      <td>-9.120623</td>\n",
       "      <td>-7.441594</td>\n",
       "      <td>-8.607080</td>\n",
       "    </tr>\n",
       "    <tr>\n",
       "      <th>25%</th>\n",
       "      <td>-2.102432</td>\n",
       "      <td>-1.356239</td>\n",
       "      <td>-1.976128</td>\n",
       "      <td>-1.975513</td>\n",
       "      <td>-0.841068</td>\n",
       "      <td>-2.094217</td>\n",
       "      <td>-0.899721</td>\n",
       "      <td>-2.072798</td>\n",
       "    </tr>\n",
       "    <tr>\n",
       "      <th>50%</th>\n",
       "      <td>-0.516368</td>\n",
       "      <td>0.170311</td>\n",
       "      <td>-0.447760</td>\n",
       "      <td>-0.380215</td>\n",
       "      <td>0.537689</td>\n",
       "      <td>-0.466087</td>\n",
       "      <td>0.341874</td>\n",
       "      <td>-0.468090</td>\n",
       "    </tr>\n",
       "    <tr>\n",
       "      <th>75%</th>\n",
       "      <td>0.776717</td>\n",
       "      <td>1.843744</td>\n",
       "      <td>0.880186</td>\n",
       "      <td>0.872527</td>\n",
       "      <td>2.167870</td>\n",
       "      <td>0.793298</td>\n",
       "      <td>1.912863</td>\n",
       "      <td>0.857743</td>\n",
       "    </tr>\n",
       "    <tr>\n",
       "      <th>max</th>\n",
       "      <td>6.340819</td>\n",
       "      <td>9.432523</td>\n",
       "      <td>6.485994</td>\n",
       "      <td>6.478709</td>\n",
       "      <td>9.059958</td>\n",
       "      <td>6.948986</td>\n",
       "      <td>9.012696</td>\n",
       "      <td>6.071132</td>\n",
       "    </tr>\n",
       "  </tbody>\n",
       "</table>\n",
       "</div>"
      ],
      "text/plain": [
       "                 0            1            2            3            4  \\\n",
       "count  3707.000000  3707.000000  3707.000000  3707.000000  3707.000000   \n",
       "mean     -0.732966     0.292757    -0.622670    -0.604828     0.734461   \n",
       "std       2.361790     2.550282     2.303044     2.323357     2.374515   \n",
       "min      -9.655300    -9.267989    -9.468780   -10.176050    -6.388413   \n",
       "25%      -2.102432    -1.356239    -1.976128    -1.975513    -0.841068   \n",
       "50%      -0.516368     0.170311    -0.447760    -0.380215     0.537689   \n",
       "75%       0.776717     1.843744     0.880186     0.872527     2.167870   \n",
       "max       6.340819     9.432523     6.485994     6.478709     9.059958   \n",
       "\n",
       "                 5            6            7  \n",
       "count  3707.000000  3707.000000  3707.000000  \n",
       "mean     -0.710163     0.585169    -0.685320  \n",
       "std       2.340138     2.287444     2.325213  \n",
       "min      -9.120623    -7.441594    -8.607080  \n",
       "25%      -2.094217    -0.899721    -2.072798  \n",
       "50%      -0.466087     0.341874    -0.468090  \n",
       "75%       0.793298     1.912863     0.857743  \n",
       "max       6.948986     9.012696     6.071132  "
      ]
     },
     "execution_count": 175,
     "metadata": {},
     "output_type": "execute_result"
    }
   ],
   "source": [
    "movie_embedding_learnt = model.get_layer(name='Movie-Embedding').get_weights()[0]\n",
    "pd.DataFrame(movie_embedding_learnt).describe()"
   ]
  },
  {
   "cell_type": "code",
   "execution_count": 176,
   "metadata": {
    "ExecuteTime": {
     "end_time": "2018-12-08T12:46:01.995916Z",
     "start_time": "2018-12-08T12:46:01.957529Z"
    }
   },
   "outputs": [
    {
     "data": {
      "text/html": [
       "<div>\n",
       "<style scoped>\n",
       "    .dataframe tbody tr th:only-of-type {\n",
       "        vertical-align: middle;\n",
       "    }\n",
       "\n",
       "    .dataframe tbody tr th {\n",
       "        vertical-align: top;\n",
       "    }\n",
       "\n",
       "    .dataframe thead th {\n",
       "        text-align: right;\n",
       "    }\n",
       "</style>\n",
       "<table border=\"1\" class=\"dataframe\">\n",
       "  <thead>\n",
       "    <tr style=\"text-align: right;\">\n",
       "      <th></th>\n",
       "      <th>0</th>\n",
       "      <th>1</th>\n",
       "      <th>2</th>\n",
       "      <th>3</th>\n",
       "      <th>4</th>\n",
       "    </tr>\n",
       "  </thead>\n",
       "  <tbody>\n",
       "    <tr>\n",
       "      <th>count</th>\n",
       "      <td>6041.000000</td>\n",
       "      <td>6041.000000</td>\n",
       "      <td>6041.000000</td>\n",
       "      <td>6041.000000</td>\n",
       "      <td>6041.000000</td>\n",
       "    </tr>\n",
       "    <tr>\n",
       "      <th>mean</th>\n",
       "      <td>-0.121805</td>\n",
       "      <td>-0.168945</td>\n",
       "      <td>0.026458</td>\n",
       "      <td>-0.109349</td>\n",
       "      <td>0.169009</td>\n",
       "    </tr>\n",
       "    <tr>\n",
       "      <th>std</th>\n",
       "      <td>2.316368</td>\n",
       "      <td>2.447150</td>\n",
       "      <td>2.173579</td>\n",
       "      <td>2.289052</td>\n",
       "      <td>2.298896</td>\n",
       "    </tr>\n",
       "    <tr>\n",
       "      <th>min</th>\n",
       "      <td>-11.392341</td>\n",
       "      <td>-20.927311</td>\n",
       "      <td>-12.978817</td>\n",
       "      <td>-14.848251</td>\n",
       "      <td>-8.733718</td>\n",
       "    </tr>\n",
       "    <tr>\n",
       "      <th>25%</th>\n",
       "      <td>-1.685957</td>\n",
       "      <td>-1.409140</td>\n",
       "      <td>-1.130722</td>\n",
       "      <td>-1.365716</td>\n",
       "      <td>-1.324970</td>\n",
       "    </tr>\n",
       "    <tr>\n",
       "      <th>50%</th>\n",
       "      <td>-0.147317</td>\n",
       "      <td>0.007641</td>\n",
       "      <td>-0.076187</td>\n",
       "      <td>0.056088</td>\n",
       "      <td>0.001056</td>\n",
       "    </tr>\n",
       "    <tr>\n",
       "      <th>75%</th>\n",
       "      <td>1.391509</td>\n",
       "      <td>1.352277</td>\n",
       "      <td>1.140829</td>\n",
       "      <td>1.370663</td>\n",
       "      <td>1.471107</td>\n",
       "    </tr>\n",
       "    <tr>\n",
       "      <th>max</th>\n",
       "      <td>12.148730</td>\n",
       "      <td>10.291594</td>\n",
       "      <td>12.906947</td>\n",
       "      <td>10.998517</td>\n",
       "      <td>12.063497</td>\n",
       "    </tr>\n",
       "  </tbody>\n",
       "</table>\n",
       "</div>"
      ],
      "text/plain": [
       "                 0            1            2            3            4\n",
       "count  6041.000000  6041.000000  6041.000000  6041.000000  6041.000000\n",
       "mean     -0.121805    -0.168945     0.026458    -0.109349     0.169009\n",
       "std       2.316368     2.447150     2.173579     2.289052     2.298896\n",
       "min     -11.392341   -20.927311   -12.978817   -14.848251    -8.733718\n",
       "25%      -1.685957    -1.409140    -1.130722    -1.365716    -1.324970\n",
       "50%      -0.147317     0.007641    -0.076187     0.056088     0.001056\n",
       "75%       1.391509     1.352277     1.140829     1.370663     1.471107\n",
       "max      12.148730    10.291594    12.906947    10.998517    12.063497"
      ]
     },
     "execution_count": 176,
     "metadata": {},
     "output_type": "execute_result"
    }
   ],
   "source": [
    "movie_embedding_learnt = model.get_layer(name='User-Embedding').get_weights()[0]\n",
    "pd.DataFrame(movie_embedding_learnt).describe()"
   ]
  },
  {
   "cell_type": "code",
   "execution_count": null,
   "metadata": {},
   "outputs": [],
   "source": []
  }
 ],
 "metadata": {
  "kernelspec": {
   "display_name": "Python 3",
   "language": "python",
   "name": "python3"
  },
  "language_info": {
   "codemirror_mode": {
    "name": "ipython",
    "version": 3
   },
   "file_extension": ".py",
   "mimetype": "text/x-python",
   "name": "python",
   "nbconvert_exporter": "python",
   "pygments_lexer": "ipython3",
   "version": "3.6.6"
  }
 },
 "nbformat": 4,
 "nbformat_minor": 2
}
