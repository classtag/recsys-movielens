{
 "cells": [
  {
   "cell_type": "code",
   "execution_count": 1,
   "metadata": {
    "ExecuteTime": {
     "end_time": "2018-12-08T12:38:12.676642Z",
     "start_time": "2018-12-08T12:38:07.676030Z"
    }
   },
   "outputs": [
    {
     "name": "stderr",
     "output_type": "stream",
     "text": [
      "Using TensorFlow backend.\n"
     ]
    }
   ],
   "source": [
    "from keras.models import Model\n",
    "from keras.layers import Input, Dense, Reshape, merge, Dot\n",
    "from keras.layers.embeddings import Embedding\n",
    "from keras.preprocessing.sequence import skipgrams\n",
    "from keras.preprocessing import sequence\n",
    "\n",
    "import urllib\n",
    "import collections\n",
    "import os\n",
    "import zipfile\n",
    "\n",
    "import numpy as np\n",
    "import tensorflow as tf"
   ]
  },
  {
   "cell_type": "code",
   "execution_count": 2,
   "metadata": {
    "ExecuteTime": {
     "end_time": "2018-12-08T12:38:12.699204Z",
     "start_time": "2018-12-08T12:38:12.680359Z"
    }
   },
   "outputs": [],
   "source": [
    "def maybe_download(filename, url, expected_bytes):\n",
    "    \"\"\"Download a file if not present, and make sure it's the right size.\"\"\"\n",
    "    if not os.path.exists(filename):\n",
    "        filename, _ = urllib.urlretrieve(url + filename, filename)\n",
    "    statinfo = os.stat(filename)\n",
    "    if statinfo.st_size == expected_bytes:\n",
    "        print('Found and verified', filename)\n",
    "    else:\n",
    "        print(statinfo.st_size)\n",
    "        raise Exception(\n",
    "            'Failed to verify ' + filename + '. Can you get to it with a browser?')\n",
    "    return filename\n",
    "\n",
    "\n",
    "# Read the data into a list of strings.\n",
    "def read_data(filename):\n",
    "    \"\"\"Extract the first file enclosed in a zip file as a list of words.\"\"\"\n",
    "    with zipfile.ZipFile(filename) as f:\n",
    "        data = tf.compat.as_str(f.read(f.namelist()[0])).split()\n",
    "    return data\n",
    "\n",
    "\n",
    "def build_dataset(words, n_words):\n",
    "    \"\"\"Process raw inputs into a dataset.\"\"\"\n",
    "    count = [['UNK', -1]]\n",
    "    count.extend(collections.Counter(words).most_common(n_words - 1))\n",
    "    dictionary = dict()\n",
    "    for word, _ in count:\n",
    "        dictionary[word] = len(dictionary)\n",
    "    data = list()\n",
    "    unk_count = 0\n",
    "    for word in words:\n",
    "        if word in dictionary:\n",
    "            index = dictionary[word]\n",
    "        else:\n",
    "            index = 0  # dictionary['UNK']\n",
    "            unk_count += 1\n",
    "        data.append(index)\n",
    "    count[0][1] = unk_count\n",
    "    reversed_dictionary = dict(zip(dictionary.values(), dictionary.keys()))\n",
    "    return data, count, dictionary, reversed_dictionary\n",
    "\n",
    "def collect_data(vocabulary_size=10000):\n",
    "    url = 'http://mattmahoney.net/dc/'\n",
    "    filename = maybe_download('text8.zip', url, 31344016)\n",
    "    vocabulary = read_data(filename)\n",
    "    print(vocabulary[:7])\n",
    "    data, count, dictionary, reverse_dictionary = build_dataset(vocabulary, vocabulary_size)\n",
    "    del vocabulary  # Hint to reduce memory.\n",
    "    return data, count, dictionary, reverse_dictionary"
   ]
  },
  {
   "cell_type": "code",
   "execution_count": 3,
   "metadata": {
    "ExecuteTime": {
     "end_time": "2018-12-08T12:38:28.566566Z",
     "start_time": "2018-12-08T12:38:12.702608Z"
    }
   },
   "outputs": [
    {
     "name": "stdout",
     "output_type": "stream",
     "text": [
      "Found and verified text8.zip\n",
      "['anarchism', 'originated', 'as', 'a', 'term', 'of', 'abuse']\n",
      "[5234, 3081, 12, 6, 195, 2, 3134]\n"
     ]
    }
   ],
   "source": [
    "vocab_size = 10000\n",
    "data, count, dictionary, reverse_dictionary = collect_data(vocabulary_size=vocab_size)\n",
    "print(data[:7])"
   ]
  },
  {
   "cell_type": "code",
   "execution_count": 4,
   "metadata": {
    "ExecuteTime": {
     "end_time": "2018-12-08T12:44:11.582256Z",
     "start_time": "2018-12-08T12:38:28.571483Z"
    }
   },
   "outputs": [
    {
     "name": "stdout",
     "output_type": "stream",
     "text": [
      "[[1699, 524], [7538, 4563], [799, 7767], [3906, 1698], [403, 7482], [7358, 1], [3815, 524], [11, 9674], [6198, 6], [9703, 251]] [1, 1, 0, 0, 0, 1, 0, 1, 1, 1]\n"
     ]
    }
   ],
   "source": [
    "window_size = 3\n",
    "vector_dim = 300\n",
    "epochs = 200\n",
    "\n",
    "valid_size = 16     # Random set of words to evaluate similarity on.\n",
    "valid_window = 100  # Only pick dev samples in the head of the distribution.\n",
    "valid_examples = np.random.choice(valid_window, valid_size, replace=False)\n",
    "\n",
    "sampling_table = sequence.make_sampling_table(vocab_size)\n",
    "couples, labels = skipgrams(data, vocab_size, window_size=window_size, sampling_table=sampling_table)\n",
    "word_target, word_context = zip(*couples)\n",
    "word_target = np.array(word_target, dtype=\"int32\")\n",
    "word_context = np.array(word_context, dtype=\"int32\")\n",
    "\n",
    "print(couples[:10], labels[:10])"
   ]
  },
  {
   "cell_type": "code",
   "execution_count": 5,
   "metadata": {
    "ExecuteTime": {
     "end_time": "2018-12-08T12:44:11.720148Z",
     "start_time": "2018-12-08T12:44:11.585494Z"
    }
   },
   "outputs": [
    {
     "name": "stderr",
     "output_type": "stream",
     "text": [
      "/Users/duoan/.pyenv/versions/miniconda3-4.3.30/envs/recsys/lib/python3.6/site-packages/ipykernel_launcher.py:20: UserWarning: Update your `Model` call to the Keras 2 API: `Model(inputs=[<tf.Tenso..., outputs=Tensor(\"si...)`\n"
     ]
    }
   ],
   "source": [
    "# create some input variables\n",
    "input_target = Input((1,))\n",
    "input_context = Input((1,))\n",
    "\n",
    "embedding = Embedding(vocab_size, vector_dim, input_length=1, name='embedding')\n",
    "target = embedding(input_target)\n",
    "target = Reshape((vector_dim, 1))(target)\n",
    "context = embedding(input_context)\n",
    "context = Reshape((vector_dim, 1))(context)\n",
    "\n",
    "# setup a cosine similarity operation which will be output in a secondary model\n",
    "similarity = merge.dot([target, context], axes=0, normalize=True, name='similarity')\n",
    "\n",
    "# now perform the dot product operation to get a similarity measure\n",
    "dot_product = merge.dot([target, context], axes=1, name='dot')\n",
    "dot_product = Reshape((1,))(dot_product)\n",
    "# add the sigmoid output layer\n",
    "output = Dense(1, activation='sigmoid', name='sigmoid')(dot_product)\n",
    "# create the primary training model\n",
    "model = Model(input=[input_target, input_context], output=output)\n",
    "model.compile(loss='binary_crossentropy', optimizer='rmsprop')"
   ]
  },
  {
   "cell_type": "code",
   "execution_count": 6,
   "metadata": {
    "ExecuteTime": {
     "end_time": "2018-12-08T12:44:11.917857Z",
     "start_time": "2018-12-08T12:44:11.722069Z"
    }
   },
   "outputs": [
    {
     "data": {
      "image/svg+xml": [
       "<svg height=\"458pt\" viewBox=\"0.00 0.00 587.89 458.00\" width=\"588pt\" xmlns=\"http://www.w3.org/2000/svg\" xmlns:xlink=\"http://www.w3.org/1999/xlink\">\n",
       "<g class=\"graph\" id=\"graph0\" transform=\"scale(1 1) rotate(0) translate(4 454)\">\n",
       "<title>G</title>\n",
       "<polygon fill=\"#ffffff\" points=\"-4,4 -4,-454 583.8867,-454 583.8867,4 -4,4\" stroke=\"transparent\"/>\n",
       "<!-- 47995108152 -->\n",
       "<g class=\"node\" id=\"node1\">\n",
       "<title>47995108152</title>\n",
       "<polygon fill=\"none\" points=\"26.6035,-405.5 26.6035,-449.5 280.2832,-449.5 280.2832,-405.5 26.6035,-405.5\" stroke=\"#000000\"/>\n",
       "<text fill=\"#000000\" font-family=\"Times,serif\" font-size=\"14.00\" text-anchor=\"middle\" x=\"90.7847\" y=\"-423.3\">input_1: InputLayer</text>\n",
       "<polyline fill=\"none\" points=\"154.9658,-405.5 154.9658,-449.5 \" stroke=\"#000000\"/>\n",
       "<text fill=\"#000000\" font-family=\"Times,serif\" font-size=\"14.00\" text-anchor=\"middle\" x=\"182.8003\" y=\"-434.3\">input:</text>\n",
       "<polyline fill=\"none\" points=\"154.9658,-427.5 210.6348,-427.5 \" stroke=\"#000000\"/>\n",
       "<text fill=\"#000000\" font-family=\"Times,serif\" font-size=\"14.00\" text-anchor=\"middle\" x=\"182.8003\" y=\"-412.3\">output:</text>\n",
       "<polyline fill=\"none\" points=\"210.6348,-405.5 210.6348,-449.5 \" stroke=\"#000000\"/>\n",
       "<text fill=\"#000000\" font-family=\"Times,serif\" font-size=\"14.00\" text-anchor=\"middle\" x=\"245.459\" y=\"-434.3\">(None, 1)</text>\n",
       "<polyline fill=\"none\" points=\"210.6348,-427.5 280.2832,-427.5 \" stroke=\"#000000\"/>\n",
       "<text fill=\"#000000\" font-family=\"Times,serif\" font-size=\"14.00\" text-anchor=\"middle\" x=\"245.459\" y=\"-412.3\">(None, 1)</text>\n",
       "</g>\n",
       "<!-- 47995109728 -->\n",
       "<g class=\"node\" id=\"node3\">\n",
       "<title>47995109728</title>\n",
       "<polygon fill=\"none\" points=\"137.7139,-324.5 137.7139,-368.5 441.1729,-368.5 441.1729,-324.5 137.7139,-324.5\" stroke=\"#000000\"/>\n",
       "<text fill=\"#000000\" font-family=\"Times,serif\" font-size=\"14.00\" text-anchor=\"middle\" x=\"212.7847\" y=\"-342.3\">embedding: Embedding</text>\n",
       "<polyline fill=\"none\" points=\"287.8555,-324.5 287.8555,-368.5 \" stroke=\"#000000\"/>\n",
       "<text fill=\"#000000\" font-family=\"Times,serif\" font-size=\"14.00\" text-anchor=\"middle\" x=\"315.6899\" y=\"-353.3\">input:</text>\n",
       "<polyline fill=\"none\" points=\"287.8555,-346.5 343.5244,-346.5 \" stroke=\"#000000\"/>\n",
       "<text fill=\"#000000\" font-family=\"Times,serif\" font-size=\"14.00\" text-anchor=\"middle\" x=\"315.6899\" y=\"-331.3\">output:</text>\n",
       "<polyline fill=\"none\" points=\"343.5244,-324.5 343.5244,-368.5 \" stroke=\"#000000\"/>\n",
       "<text fill=\"#000000\" font-family=\"Times,serif\" font-size=\"14.00\" text-anchor=\"middle\" x=\"392.3486\" y=\"-353.3\">(None, 1)</text>\n",
       "<polyline fill=\"none\" points=\"343.5244,-346.5 441.1729,-346.5 \" stroke=\"#000000\"/>\n",
       "<text fill=\"#000000\" font-family=\"Times,serif\" font-size=\"14.00\" text-anchor=\"middle\" x=\"392.3486\" y=\"-331.3\">(None, 1, 300)</text>\n",
       "</g>\n",
       "<!-- 47995108152&#45;&gt;47995109728 -->\n",
       "<g class=\"edge\" id=\"edge1\">\n",
       "<title>47995108152-&gt;47995109728</title>\n",
       "<path d=\"M190.606,-405.3664C206.9473,-395.6337 226.303,-384.1057 243.5351,-373.8424\" fill=\"none\" stroke=\"#000000\"/>\n",
       "<polygon fill=\"#000000\" points=\"245.5251,-376.731 252.3257,-368.6068 241.9431,-370.7169 245.5251,-376.731\" stroke=\"#000000\"/>\n",
       "</g>\n",
       "<!-- 47995108040 -->\n",
       "<g class=\"node\" id=\"node2\">\n",
       "<title>47995108040</title>\n",
       "<polygon fill=\"none\" points=\"298.6035,-405.5 298.6035,-449.5 552.2832,-449.5 552.2832,-405.5 298.6035,-405.5\" stroke=\"#000000\"/>\n",
       "<text fill=\"#000000\" font-family=\"Times,serif\" font-size=\"14.00\" text-anchor=\"middle\" x=\"362.7847\" y=\"-423.3\">input_2: InputLayer</text>\n",
       "<polyline fill=\"none\" points=\"426.9658,-405.5 426.9658,-449.5 \" stroke=\"#000000\"/>\n",
       "<text fill=\"#000000\" font-family=\"Times,serif\" font-size=\"14.00\" text-anchor=\"middle\" x=\"454.8003\" y=\"-434.3\">input:</text>\n",
       "<polyline fill=\"none\" points=\"426.9658,-427.5 482.6348,-427.5 \" stroke=\"#000000\"/>\n",
       "<text fill=\"#000000\" font-family=\"Times,serif\" font-size=\"14.00\" text-anchor=\"middle\" x=\"454.8003\" y=\"-412.3\">output:</text>\n",
       "<polyline fill=\"none\" points=\"482.6348,-405.5 482.6348,-449.5 \" stroke=\"#000000\"/>\n",
       "<text fill=\"#000000\" font-family=\"Times,serif\" font-size=\"14.00\" text-anchor=\"middle\" x=\"517.459\" y=\"-434.3\">(None, 1)</text>\n",
       "<polyline fill=\"none\" points=\"482.6348,-427.5 552.2832,-427.5 \" stroke=\"#000000\"/>\n",
       "<text fill=\"#000000\" font-family=\"Times,serif\" font-size=\"14.00\" text-anchor=\"middle\" x=\"517.459\" y=\"-412.3\">(None, 1)</text>\n",
       "</g>\n",
       "<!-- 47995108040&#45;&gt;47995109728 -->\n",
       "<g class=\"edge\" id=\"edge2\">\n",
       "<title>47995108040-&gt;47995109728</title>\n",
       "<path d=\"M388.2808,-405.3664C371.9395,-395.6337 352.5838,-384.1057 335.3516,-373.8424\" fill=\"none\" stroke=\"#000000\"/>\n",
       "<polygon fill=\"#000000\" points=\"336.9436,-370.7169 326.561,-368.6068 333.3617,-376.731 336.9436,-370.7169\" stroke=\"#000000\"/>\n",
       "</g>\n",
       "<!-- 47995109672 -->\n",
       "<g class=\"node\" id=\"node4\">\n",
       "<title>47995109672</title>\n",
       "<polygon fill=\"none\" points=\"0,-243.5 0,-287.5 280.8867,-287.5 280.8867,-243.5 0,-243.5\" stroke=\"#000000\"/>\n",
       "<text fill=\"#000000\" font-family=\"Times,serif\" font-size=\"14.00\" text-anchor=\"middle\" x=\"63.7847\" y=\"-261.3\">reshape_1: Reshape</text>\n",
       "<polyline fill=\"none\" points=\"127.5693,-243.5 127.5693,-287.5 \" stroke=\"#000000\"/>\n",
       "<text fill=\"#000000\" font-family=\"Times,serif\" font-size=\"14.00\" text-anchor=\"middle\" x=\"155.4038\" y=\"-272.3\">input:</text>\n",
       "<polyline fill=\"none\" points=\"127.5693,-265.5 183.2383,-265.5 \" stroke=\"#000000\"/>\n",
       "<text fill=\"#000000\" font-family=\"Times,serif\" font-size=\"14.00\" text-anchor=\"middle\" x=\"155.4038\" y=\"-250.3\">output:</text>\n",
       "<polyline fill=\"none\" points=\"183.2383,-243.5 183.2383,-287.5 \" stroke=\"#000000\"/>\n",
       "<text fill=\"#000000\" font-family=\"Times,serif\" font-size=\"14.00\" text-anchor=\"middle\" x=\"232.0625\" y=\"-272.3\">(None, 1, 300)</text>\n",
       "<polyline fill=\"none\" points=\"183.2383,-265.5 280.8867,-265.5 \" stroke=\"#000000\"/>\n",
       "<text fill=\"#000000\" font-family=\"Times,serif\" font-size=\"14.00\" text-anchor=\"middle\" x=\"232.0625\" y=\"-250.3\">(None, 300, 1)</text>\n",
       "</g>\n",
       "<!-- 47995109728&#45;&gt;47995109672 -->\n",
       "<g class=\"edge\" id=\"edge3\">\n",
       "<title>47995109728-&gt;47995109672</title>\n",
       "<path d=\"M248.7285,-324.3664C230.5787,-314.4998 209.035,-302.7881 189.9618,-292.4194\" fill=\"none\" stroke=\"#000000\"/>\n",
       "<polygon fill=\"#000000\" points=\"191.5664,-289.308 181.109,-287.6068 188.2231,-295.458 191.5664,-289.308\" stroke=\"#000000\"/>\n",
       "</g>\n",
       "<!-- 47995110512 -->\n",
       "<g class=\"node\" id=\"node5\">\n",
       "<title>47995110512</title>\n",
       "<polygon fill=\"none\" points=\"299,-243.5 299,-287.5 579.8867,-287.5 579.8867,-243.5 299,-243.5\" stroke=\"#000000\"/>\n",
       "<text fill=\"#000000\" font-family=\"Times,serif\" font-size=\"14.00\" text-anchor=\"middle\" x=\"362.7847\" y=\"-261.3\">reshape_2: Reshape</text>\n",
       "<polyline fill=\"none\" points=\"426.5693,-243.5 426.5693,-287.5 \" stroke=\"#000000\"/>\n",
       "<text fill=\"#000000\" font-family=\"Times,serif\" font-size=\"14.00\" text-anchor=\"middle\" x=\"454.4038\" y=\"-272.3\">input:</text>\n",
       "<polyline fill=\"none\" points=\"426.5693,-265.5 482.2383,-265.5 \" stroke=\"#000000\"/>\n",
       "<text fill=\"#000000\" font-family=\"Times,serif\" font-size=\"14.00\" text-anchor=\"middle\" x=\"454.4038\" y=\"-250.3\">output:</text>\n",
       "<polyline fill=\"none\" points=\"482.2383,-243.5 482.2383,-287.5 \" stroke=\"#000000\"/>\n",
       "<text fill=\"#000000\" font-family=\"Times,serif\" font-size=\"14.00\" text-anchor=\"middle\" x=\"531.0625\" y=\"-272.3\">(None, 1, 300)</text>\n",
       "<polyline fill=\"none\" points=\"482.2383,-265.5 579.8867,-265.5 \" stroke=\"#000000\"/>\n",
       "<text fill=\"#000000\" font-family=\"Times,serif\" font-size=\"14.00\" text-anchor=\"middle\" x=\"531.0625\" y=\"-250.3\">(None, 300, 1)</text>\n",
       "</g>\n",
       "<!-- 47995109728&#45;&gt;47995110512 -->\n",
       "<g class=\"edge\" id=\"edge4\">\n",
       "<title>47995109728-&gt;47995110512</title>\n",
       "<path d=\"M330.4315,-324.3664C348.703,-314.4998 370.3914,-302.7881 389.5926,-292.4194\" fill=\"none\" stroke=\"#000000\"/>\n",
       "<polygon fill=\"#000000\" points=\"391.3687,-295.4381 398.5048,-287.6068 388.0427,-289.2787 391.3687,-295.4381\" stroke=\"#000000\"/>\n",
       "</g>\n",
       "<!-- 47995110288 -->\n",
       "<g class=\"node\" id=\"node6\">\n",
       "<title>47995110288</title>\n",
       "<polygon fill=\"none\" points=\"132.6587,-162.5 132.6587,-206.5 446.228,-206.5 446.228,-162.5 132.6587,-162.5\" stroke=\"#000000\"/>\n",
       "<text fill=\"#000000\" font-family=\"Times,serif\" font-size=\"14.00\" text-anchor=\"middle\" x=\"163.7983\" y=\"-180.3\">dot: Dot</text>\n",
       "<polyline fill=\"none\" points=\"194.938,-162.5 194.938,-206.5 \" stroke=\"#000000\"/>\n",
       "<text fill=\"#000000\" font-family=\"Times,serif\" font-size=\"14.00\" text-anchor=\"middle\" x=\"222.7725\" y=\"-191.3\">input:</text>\n",
       "<polyline fill=\"none\" points=\"194.938,-184.5 250.6069,-184.5 \" stroke=\"#000000\"/>\n",
       "<text fill=\"#000000\" font-family=\"Times,serif\" font-size=\"14.00\" text-anchor=\"middle\" x=\"222.7725\" y=\"-169.3\">output:</text>\n",
       "<polyline fill=\"none\" points=\"250.6069,-162.5 250.6069,-206.5 \" stroke=\"#000000\"/>\n",
       "<text fill=\"#000000\" font-family=\"Times,serif\" font-size=\"14.00\" text-anchor=\"middle\" x=\"348.4175\" y=\"-191.3\">[(None, 300, 1), (None, 300, 1)]</text>\n",
       "<polyline fill=\"none\" points=\"250.6069,-184.5 446.228,-184.5 \" stroke=\"#000000\"/>\n",
       "<text fill=\"#000000\" font-family=\"Times,serif\" font-size=\"14.00\" text-anchor=\"middle\" x=\"347.9312\" y=\"-169.3\">(None, 1, 1)</text>\n",
       "</g>\n",
       "<!-- 47995109672&#45;&gt;47995110288 -->\n",
       "<g class=\"edge\" id=\"edge5\">\n",
       "<title>47995109672-&gt;47995110288</title>\n",
       "<path d=\"M181.1583,-243.3664C199.308,-233.4998 220.8517,-221.7881 239.9249,-211.4194\" fill=\"none\" stroke=\"#000000\"/>\n",
       "<polygon fill=\"#000000\" points=\"241.6636,-214.458 248.7777,-206.6068 238.3203,-208.308 241.6636,-214.458\" stroke=\"#000000\"/>\n",
       "</g>\n",
       "<!-- 47995110512&#45;&gt;47995110288 -->\n",
       "<g class=\"edge\" id=\"edge6\">\n",
       "<title>47995110512-&gt;47995110288</title>\n",
       "<path d=\"M398.4552,-243.3664C380.1837,-233.4998 358.4953,-221.7881 339.2941,-211.4194\" fill=\"none\" stroke=\"#000000\"/>\n",
       "<polygon fill=\"#000000\" points=\"340.8441,-208.2787 330.382,-206.6068 337.518,-214.4381 340.8441,-208.2787\" stroke=\"#000000\"/>\n",
       "</g>\n",
       "<!-- 47995111016 -->\n",
       "<g class=\"node\" id=\"node7\">\n",
       "<title>47995111016</title>\n",
       "<polygon fill=\"none\" points=\"156,-81.5 156,-125.5 422.8867,-125.5 422.8867,-81.5 156,-81.5\" stroke=\"#000000\"/>\n",
       "<text fill=\"#000000\" font-family=\"Times,serif\" font-size=\"14.00\" text-anchor=\"middle\" x=\"219.7847\" y=\"-99.3\">reshape_3: Reshape</text>\n",
       "<polyline fill=\"none\" points=\"283.5693,-81.5 283.5693,-125.5 \" stroke=\"#000000\"/>\n",
       "<text fill=\"#000000\" font-family=\"Times,serif\" font-size=\"14.00\" text-anchor=\"middle\" x=\"311.4038\" y=\"-110.3\">input:</text>\n",
       "<polyline fill=\"none\" points=\"283.5693,-103.5 339.2383,-103.5 \" stroke=\"#000000\"/>\n",
       "<text fill=\"#000000\" font-family=\"Times,serif\" font-size=\"14.00\" text-anchor=\"middle\" x=\"311.4038\" y=\"-88.3\">output:</text>\n",
       "<polyline fill=\"none\" points=\"339.2383,-81.5 339.2383,-125.5 \" stroke=\"#000000\"/>\n",
       "<text fill=\"#000000\" font-family=\"Times,serif\" font-size=\"14.00\" text-anchor=\"middle\" x=\"381.0625\" y=\"-110.3\">(None, 1, 1)</text>\n",
       "<polyline fill=\"none\" points=\"339.2383,-103.5 422.8867,-103.5 \" stroke=\"#000000\"/>\n",
       "<text fill=\"#000000\" font-family=\"Times,serif\" font-size=\"14.00\" text-anchor=\"middle\" x=\"381.0625\" y=\"-88.3\">(None, 1)</text>\n",
       "</g>\n",
       "<!-- 47995110288&#45;&gt;47995111016 -->\n",
       "<g class=\"edge\" id=\"edge7\">\n",
       "<title>47995110288-&gt;47995111016</title>\n",
       "<path d=\"M289.4434,-162.3664C289.4434,-154.1516 289.4434,-144.6579 289.4434,-135.7252\" fill=\"none\" stroke=\"#000000\"/>\n",
       "<polygon fill=\"#000000\" points=\"292.9435,-135.6068 289.4434,-125.6068 285.9435,-135.6069 292.9435,-135.6068\" stroke=\"#000000\"/>\n",
       "</g>\n",
       "<!-- 47995129808 -->\n",
       "<g class=\"node\" id=\"node8\">\n",
       "<title>47995129808</title>\n",
       "<polygon fill=\"none\" points=\"175.0381,-.5 175.0381,-44.5 403.8486,-44.5 403.8486,-.5 175.0381,-.5\" stroke=\"#000000\"/>\n",
       "<text fill=\"#000000\" font-family=\"Times,serif\" font-size=\"14.00\" text-anchor=\"middle\" x=\"226.7847\" y=\"-18.3\">sigmoid: Dense</text>\n",
       "<polyline fill=\"none\" points=\"278.5313,-.5 278.5313,-44.5 \" stroke=\"#000000\"/>\n",
       "<text fill=\"#000000\" font-family=\"Times,serif\" font-size=\"14.00\" text-anchor=\"middle\" x=\"306.3657\" y=\"-29.3\">input:</text>\n",
       "<polyline fill=\"none\" points=\"278.5313,-22.5 334.2002,-22.5 \" stroke=\"#000000\"/>\n",
       "<text fill=\"#000000\" font-family=\"Times,serif\" font-size=\"14.00\" text-anchor=\"middle\" x=\"306.3657\" y=\"-7.3\">output:</text>\n",
       "<polyline fill=\"none\" points=\"334.2002,-.5 334.2002,-44.5 \" stroke=\"#000000\"/>\n",
       "<text fill=\"#000000\" font-family=\"Times,serif\" font-size=\"14.00\" text-anchor=\"middle\" x=\"369.0244\" y=\"-29.3\">(None, 1)</text>\n",
       "<polyline fill=\"none\" points=\"334.2002,-22.5 403.8486,-22.5 \" stroke=\"#000000\"/>\n",
       "<text fill=\"#000000\" font-family=\"Times,serif\" font-size=\"14.00\" text-anchor=\"middle\" x=\"369.0244\" y=\"-7.3\">(None, 1)</text>\n",
       "</g>\n",
       "<!-- 47995111016&#45;&gt;47995129808 -->\n",
       "<g class=\"edge\" id=\"edge8\">\n",
       "<title>47995111016-&gt;47995129808</title>\n",
       "<path d=\"M289.4434,-81.3664C289.4434,-73.1516 289.4434,-63.6579 289.4434,-54.7252\" fill=\"none\" stroke=\"#000000\"/>\n",
       "<polygon fill=\"#000000\" points=\"292.9435,-54.6068 289.4434,-44.6068 285.9435,-54.6069 292.9435,-54.6068\" stroke=\"#000000\"/>\n",
       "</g>\n",
       "</g>\n",
       "</svg>"
      ],
      "text/plain": [
       "<IPython.core.display.SVG object>"
      ]
     },
     "execution_count": 6,
     "metadata": {},
     "output_type": "execute_result"
    }
   ],
   "source": [
    "from IPython.display import SVG\n",
    "from keras.utils.vis_utils import model_to_dot\n",
    "\n",
    "SVG(model_to_dot(model,  show_shapes=True, show_layer_names=True, rankdir='HB').create(prog='dot', format='svg'))"
   ]
  },
  {
   "cell_type": "code",
   "execution_count": 7,
   "metadata": {
    "ExecuteTime": {
     "end_time": "2018-12-08T12:44:11.925133Z",
     "start_time": "2018-12-08T12:44:11.920380Z"
    }
   },
   "outputs": [
    {
     "name": "stderr",
     "output_type": "stream",
     "text": [
      "/Users/duoan/.pyenv/versions/miniconda3-4.3.30/envs/recsys/lib/python3.6/site-packages/ipykernel_launcher.py:2: UserWarning: Update your `Model` call to the Keras 2 API: `Model(inputs=[<tf.Tenso..., outputs=Tensor(\"si...)`\n",
      "  \n"
     ]
    }
   ],
   "source": [
    "# create a secondary validation model to run our similarity checks during training\n",
    "validation_model = Model(input=[input_target, input_context], output=similarity)"
   ]
  },
  {
   "cell_type": "code",
   "execution_count": 8,
   "metadata": {
    "ExecuteTime": {
     "end_time": "2018-12-08T12:44:11.934139Z",
     "start_time": "2018-12-08T12:44:11.927311Z"
    }
   },
   "outputs": [],
   "source": [
    "class SimilarityCallback:\n",
    "    def run_sim(self):\n",
    "        for i in range(valid_size):\n",
    "            valid_word = reverse_dictionary[valid_examples[i]]\n",
    "            top_k = 8  # number of nearest neighbors\n",
    "            sim = self._get_sim(valid_examples[i])\n",
    "            nearest = (-sim).argsort()[1:top_k + 1]\n",
    "            log_str = 'Nearest to %s:' % valid_word\n",
    "            for k in range(top_k):\n",
    "                close_word = reverse_dictionary[nearest[k]]\n",
    "                log_str = '%s %s,' % (log_str, close_word)\n",
    "            print(log_str)\n",
    "\n",
    "    @staticmethod\n",
    "    def _get_sim(valid_word_idx):\n",
    "        sim = np.zeros((vocab_size,))\n",
    "        in_arr1 = np.zeros((1,))\n",
    "        in_arr2 = np.zeros((1,))\n",
    "        in_arr1[0,] = valid_word_idx\n",
    "        for i in range(vocab_size):\n",
    "            in_arr2[0,] = i\n",
    "            out = validation_model.predict_on_batch([in_arr1, in_arr2])\n",
    "            sim[i] = out\n",
    "        return sim\n",
    "sim_cb = SimilarityCallback()"
   ]
  },
  {
   "cell_type": "code",
   "execution_count": 9,
   "metadata": {
    "ExecuteTime": {
     "end_time": "2018-12-08T12:44:54.835180Z",
     "start_time": "2018-12-08T12:44:11.936499Z"
    }
   },
   "outputs": [
    {
     "name": "stdout",
     "output_type": "stream",
     "text": [
      "Iteration 0, loss=0.6866509318351746\n",
      "Nearest to th: etruscan, macau, fertile, functions, usage, peacekeeping, excel, earlier,\n",
      "Nearest to if: alchemy, upgraded, facts, winners, las, garfield, offspring, teacher,\n",
      "Nearest to years: oldest, crystalline, based, important, observable, officially, visiting, os,\n",
      "Nearest to most: emphasis, demonstrations, suggests, thou, copied, sheet, convention, instructions,\n",
      "Nearest to had: ny, asian, recommended, presumably, seeks, midnight, holdings, guinea,\n",
      "Nearest to about: enforce, crucial, sects, murray, algorithms, borne, fighting, nintendo,\n",
      "Nearest to after: bigger, lou, remote, invaded, fitzgerald, feel, capitals, planes,\n",
      "Nearest to many: assume, boat, elevated, sworn, socially, combination, appear, significance,\n",
      "Nearest to people: fractal, soldiers, several, rhetoric, colspan, provisions, honey, oriental,\n",
      "Nearest to between: rock, seems, everywhere, critical, cos, volunteer, revenues, avoiding,\n",
      "Nearest to for: foods, element, masturbation, wake, refugee, supernatural, capture, propelled,\n",
      "Nearest to there: entitled, regardless, invented, formulas, satellites, writing, stick, attention,\n",
      "Nearest to not: merge, jan, hong, debut, tested, defeated, prestigious, previous,\n",
      "Nearest to s: petroleum, verses, duck, explosive, parker, germany, warsaw, bengal,\n",
      "Nearest to it: opium, toronto, duck, pascal, prime, pirate, player, thin,\n",
      "Nearest to i: units, counter, load, disputes, told, lectures, lists, mandelbrot,\n",
      "Iteration 100, loss=0.6947126388549805\n"
     ]
    }
   ],
   "source": [
    "arr_1 = np.zeros((1,))\n",
    "arr_2 = np.zeros((1,))\n",
    "arr_3 = np.zeros((1,))\n",
    "for cnt in range(epochs):\n",
    "    idx = np.random.randint(0, len(labels)-1)\n",
    "    arr_1[0,] = word_target[idx]\n",
    "    arr_2[0,] = word_context[idx]\n",
    "    arr_3[0,] = labels[idx]\n",
    "    loss = model.train_on_batch([arr_1, arr_2], arr_3)\n",
    "    if cnt % 100 == 0:\n",
    "        print(\"Iteration {}, loss={}\".format(cnt, loss))\n",
    "    if cnt % 10000 == 0:\n",
    "        sim_cb.run_sim()"
   ]
  },
  {
   "cell_type": "code",
   "execution_count": null,
   "metadata": {},
   "outputs": [],
   "source": []
  },
  {
   "cell_type": "code",
   "execution_count": null,
   "metadata": {},
   "outputs": [],
   "source": []
  }
 ],
 "metadata": {
  "colab": {
   "default_view": {},
   "name": "5_word2vec.ipynb",
   "provenance": [],
   "version": "0.3.2",
   "views": {}
  },
  "kernelspec": {
   "display_name": "Python 3",
   "language": "python",
   "name": "python3"
  },
  "language_info": {
   "codemirror_mode": {
    "name": "ipython",
    "version": 3
   },
   "file_extension": ".py",
   "mimetype": "text/x-python",
   "name": "python",
   "nbconvert_exporter": "python",
   "pygments_lexer": "ipython3",
   "version": "3.6.6"
  }
 },
 "nbformat": 4,
 "nbformat_minor": 1
}
